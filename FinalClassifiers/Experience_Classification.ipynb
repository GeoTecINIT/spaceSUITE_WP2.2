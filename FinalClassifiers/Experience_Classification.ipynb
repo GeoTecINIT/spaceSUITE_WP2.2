{
 "cells": [
  {
   "cell_type": "markdown",
   "metadata": {},
   "source": [
    "# Extract Required Experience using Regex"
   ]
  },
  {
   "cell_type": "markdown",
   "metadata": {},
   "source": [
    "## Load Data"
   ]
  },
  {
   "cell_type": "code",
   "execution_count": 1,
   "metadata": {},
   "outputs": [],
   "source": [
    "import pandas as pd\n",
    "\n",
    "fileName = 'Euraxess_GNSS_08-01-2024'\n",
    "excel_file = '../Results/' + fileName + '.xlsx'\n",
    "\n",
    "df = pd.read_excel(excel_file)"
   ]
  },
  {
   "cell_type": "markdown",
   "metadata": {},
   "source": [
    "### Prepare Data"
   ]
  },
  {
   "cell_type": "code",
   "execution_count": 2,
   "metadata": {},
   "outputs": [],
   "source": [
    "columns = ['Title', 'OfferDescription', 'Requirements', 'Responsibilities', 'AdditionalInformation']\n",
    "existing_columns = [col for col in columns if col in df.columns]\n",
    "\n",
    "requirements = df['Requirements'].tolist()\n",
    "descriptions = df[existing_columns].copy().apply(lambda x: ' '.join(x.dropna().astype(str)), axis=1).tolist()\n",
    "\n",
    "input = [\n",
    "    req if isinstance(req, str) and req != '-' else desc\n",
    "    for req, desc in zip(requirements, descriptions)\n",
    "]"
   ]
  },
  {
   "cell_type": "markdown",
   "metadata": {},
   "source": [
    "## Evaluate"
   ]
  },
  {
   "cell_type": "code",
   "execution_count": 3,
   "metadata": {},
   "outputs": [],
   "source": [
    "import re\n",
    "\n",
    "def extract_experience(text):\n",
    "    # Mapping words to numbers for 0-20 and some common multiples of ten\n",
    "    words_to_numbers = {\n",
    "        'zero': 0, 'one': 1, 'two': 2, 'three': 3, 'four': 4, 'five': 5, 'six': 6, 'seven': 7,\n",
    "        'eight': 8, 'nine': 9, 'ten': 10, 'eleven': 11, 'twelve': 12, 'thirteen': 13, 'fourteen': 14,\n",
    "        'fifteen': 15, 'sixteen': 16, 'seventeen': 17, 'eighteen': 18, 'nineteen': 19, 'twenty': 20,\n",
    "        'thirty': 30, 'forty': 40, 'fifty': 50, 'sixty': 60, 'seventy': 70, 'eighty': 80, 'ninety': 90\n",
    "    }\n",
    "    \n",
    "    # Helper function to convert word to number\n",
    "    def word_to_num(word):\n",
    "        return words_to_numbers.get(word.lower(), None)\n",
    "    \n",
    "    # Define regex patterns for various ways of expressing years of experience\n",
    "    number_or_word = r'\\b(\\d+|' + '|'.join(words_to_numbers.keys()) + r')\\b'\n",
    "    \n",
    "    patterns = [\n",
    "        fr'{number_or_word}\\s*(?:years?|year)\\s+of\\s+experience\\b',\n",
    "        fr'at\\s+least\\s+{number_or_word}\\s*(?:years?|year)\\s+of\\s+(?:relevant\\s+)?work\\s+experience\\b',\n",
    "        fr'over\\s+{number_or_word}\\s*(?:years?|year)\\s+of\\s+experience\\b',\n",
    "        fr'{number_or_word}\\s*(?:years?|year)\\s+experience\\b',\n",
    "        fr'{number_or_word}\\s*(?:years?|year)\\s+of\\s+relevant\\s+experience\\b',\n",
    "        fr'minimum\\s+of\\s+{number_or_word}\\s*(?:years?|year)\\s+experience\\b',\n",
    "        fr'{number_or_word}\\s*(?:years?|year)\\s+of\\s+professional\\s+experience\\b',\n",
    "        fr'{number_or_word}\\s*(?:[-to]\\s*){number_or_word}\\s*(?:years?|year)\\s+of\\s+experience\\b',\n",
    "        fr'from\\s+{number_or_word}\\s+to\\s+{number_or_word}\\s*(?:years?|year)\\s+of\\s+experience\\b',\n",
    "        fr'between\\s+{number_or_word}\\s+and\\s+{number_or_word}\\s*(?:years?|year)\\s+of\\s+experience\\b',\n",
    "        fr'{number_or_word}\\s*-\\s*{number_or_word}\\s*(?:years?|year)\\s+of\\s+experience\\b',\n",
    "        fr'{number_or_word}\\s*plus\\s*years?\\s+of\\s+experience\\b',\n",
    "        fr'at\\s+least\\s+{number_or_word}\\s*(?:years?|year)\\s+of\\s+professional\\s+experience\\b',\n",
    "        fr'up\\s+to\\s+{number_or_word}\\s*(?:years?|year)\\s+of\\s+experience\\b',\n",
    "        fr'{number_or_word}\\s*\\+\\s*years?\\s+of\\s+experience\\b',\n",
    "        fr'a\\s+minimum\\s+of\\s+{number_or_word}\\s*(?:years?|year)\\s+of\\s+experience\\b',\n",
    "        fr'from\\s+{number_or_word}\\s*(?:-\\s*)?to\\s+{number_or_word}\\s*(?:years?|year)\\s+experience\\b',\n",
    "        fr'from\\s+{number_or_word}\\s+to\\s+{number_or_word}\\s*(?:years?|year)\\s+of\\s+relevant\\s+experience\\b',\n",
    "        fr'between\\s+{number_or_word}\\s+and\\s+{number_or_word}\\s*(?:years?|year)\\s+of\\s+relevant\\s+experience\\b',\n",
    "        fr'{number_or_word}\\s*-\\s*{number_or_word}\\s*(?:years?|year)\\s+of\\s+relevant\\s+experience\\b'\n",
    "    ]\n",
    "    \n",
    "    # Combine patterns into one regex\n",
    "    combined_pattern = '|'.join(f\"({pattern})\" for pattern in patterns)\n",
    "    \n",
    "    # Compile the regex\n",
    "    regex = re.compile(combined_pattern, re.IGNORECASE)\n",
    "    \n",
    "    # Find all matches\n",
    "    matches = regex.findall(text)\n",
    "    \n",
    "    # Extract the years from matches\n",
    "    experience_years = -1\n",
    "    for match in matches:\n",
    "        for item in match:\n",
    "            if item.isdigit() and (experience_years == -1 or int(item) < experience_years):\n",
    "                experience_years = int(item)\n",
    "            else:\n",
    "                num = word_to_num(item)\n",
    "                if num is not None and (experience_years == -1 or num < experience_years):\n",
    "                    experience_years = num\n",
    "        \n",
    "    return experience_years"
   ]
  },
  {
   "cell_type": "code",
   "execution_count": 4,
   "metadata": {},
   "outputs": [
    {
     "name": "stdout",
     "output_type": "stream",
     "text": [
      "Classified: 2.35%\n",
      "Undefined: 97.65%\n",
      "\n",
      " ----------------------------- \n",
      "\n",
      "Document Annotated\n"
     ]
    }
   ],
   "source": [
    "import datetime\n",
    "\n",
    "requiredYears = []\n",
    "classified = 0\n",
    "\n",
    "for text in input:\n",
    "    textExperience = extract_experience(text)\n",
    "    if textExperience != -1: \n",
    "        classified += 1\n",
    "        requiredYears.append(textExperience)\n",
    "    else:\n",
    "        requiredYears.append('Undefined')\n",
    "        \n",
    "df['RequiredExperience'] = requiredYears\n",
    "df.to_excel('../Results/' + fileName + '.xlsx', index=False, engine='openpyxl')\n",
    "        \n",
    "percentage = (classified / len(requiredYears)) * 100\n",
    "print(f\"Classified: {percentage:.2f}%\")\n",
    "print(f\"Undefined: {(100 - percentage):.2f}%\")\n",
    "\n",
    "print(\"\\n ----------------------------- \\n\")\n",
    "print(\"Document Annotated\")"
   ]
  }
 ],
 "metadata": {
  "kernelspec": {
   "display_name": "Python 3",
   "language": "python",
   "name": "python3"
  },
  "language_info": {
   "codemirror_mode": {
    "name": "ipython",
    "version": 3
   },
   "file_extension": ".py",
   "mimetype": "text/x-python",
   "name": "python",
   "nbconvert_exporter": "python",
   "pygments_lexer": "ipython3",
   "version": "3.12.4"
  }
 },
 "nbformat": 4,
 "nbformat_minor": 2
}
