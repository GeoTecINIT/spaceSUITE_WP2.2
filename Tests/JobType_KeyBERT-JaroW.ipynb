{
 "cells": [
  {
   "cell_type": "markdown",
   "metadata": {},
   "source": [
    "# Job Type KeyBERT Jaro-Winkler Classification"
   ]
  },
  {
   "cell_type": "markdown",
   "metadata": {},
   "source": [
    "### Load Data"
   ]
  },
  {
   "cell_type": "code",
   "execution_count": 1,
   "metadata": {},
   "outputs": [],
   "source": [
    "import pandas as pd\n",
    "from sklearn.model_selection import train_test_split\n",
    "\n",
    "excel_file = './Euraxess_GNSS_Keywords.xlsx'\n",
    "df = pd.read_excel(excel_file)\n",
    "\n",
    "_, sampled_df = train_test_split(df, test_size=0.01, random_state=42)"
   ]
  },
  {
   "cell_type": "markdown",
   "metadata": {},
   "source": [
    "### Prepare Data"
   ]
  },
  {
   "cell_type": "code",
   "execution_count": 2,
   "metadata": {},
   "outputs": [],
   "source": [
    "sampled_df['Concatenated'] = sampled_df[['Title', 'OfferDescription', 'Requirements', 'AdditionalInformation']].apply(lambda x: ' '.join(x.dropna().astype(str)), axis=1)\n",
    "\n",
    "descriptions = sampled_df['Concatenated'].tolist()"
   ]
  },
  {
   "cell_type": "markdown",
   "metadata": {},
   "source": [
    "### Tokenization"
   ]
  },
  {
   "cell_type": "code",
   "execution_count": 3,
   "metadata": {},
   "outputs": [
    {
     "name": "stderr",
     "output_type": "stream",
     "text": [
      "[nltk_data] Downloading package punkt to\n",
      "[nltk_data]     C:\\Users\\Usuario\\AppData\\Roaming\\nltk_data...\n",
      "[nltk_data]   Package punkt is already up-to-date!\n"
     ]
    },
    {
     "data": {
      "text/plain": [
       "True"
      ]
     },
     "execution_count": 3,
     "metadata": {},
     "output_type": "execute_result"
    }
   ],
   "source": [
    "import nltk\n",
    "from nltk import word_tokenize\n",
    "nltk.download('punkt')"
   ]
  },
  {
   "cell_type": "code",
   "execution_count": 4,
   "metadata": {},
   "outputs": [],
   "source": [
    "descriptions_token = []\n",
    "\n",
    "for description in descriptions:\n",
    "    tokens = word_tokenize(description)\n",
    "    descriptions_token.append(tokens)"
   ]
  },
  {
   "cell_type": "markdown",
   "metadata": {},
   "source": [
    "### Remove Hyphens"
   ]
  },
  {
   "cell_type": "code",
   "execution_count": 5,
   "metadata": {},
   "outputs": [],
   "source": [
    "def remove_hyphens(text):\n",
    "    return [item.strip('-') for item in text]"
   ]
  },
  {
   "cell_type": "code",
   "execution_count": 6,
   "metadata": {},
   "outputs": [],
   "source": [
    "rem_hyphens = []\n",
    "\n",
    "for description in descriptions_token:\n",
    "    tokens = remove_hyphens(description)\n",
    "    rem_hyphens.append(tokens)"
   ]
  },
  {
   "cell_type": "markdown",
   "metadata": {},
   "source": [
    "### Lowcase all the text"
   ]
  },
  {
   "cell_type": "code",
   "execution_count": 7,
   "metadata": {},
   "outputs": [],
   "source": [
    "def lowercase_text(text):\n",
    "    return [item.lower() for item in text]"
   ]
  },
  {
   "cell_type": "code",
   "execution_count": 8,
   "metadata": {},
   "outputs": [],
   "source": [
    "lowcase_descriptions = []\n",
    "\n",
    "for description in rem_hyphens:\n",
    "    tokens = lowercase_text(description)\n",
    "    lowcase_descriptions.append(tokens)"
   ]
  },
  {
   "cell_type": "markdown",
   "metadata": {},
   "source": [
    "### Remove casing"
   ]
  },
  {
   "cell_type": "code",
   "execution_count": 9,
   "metadata": {},
   "outputs": [],
   "source": [
    "def remove_case(text):\n",
    "    return [item.strip('[]') for item in text]"
   ]
  },
  {
   "cell_type": "code",
   "execution_count": 10,
   "metadata": {},
   "outputs": [],
   "source": [
    "rem_casing = []\n",
    "\n",
    "for description in lowcase_descriptions:\n",
    "    tokens = remove_case(description)\n",
    "    rem_casing.append(tokens)"
   ]
  },
  {
   "cell_type": "markdown",
   "metadata": {},
   "source": [
    "### Remove stopwords"
   ]
  },
  {
   "cell_type": "code",
   "execution_count": 11,
   "metadata": {},
   "outputs": [
    {
     "name": "stderr",
     "output_type": "stream",
     "text": [
      "[nltk_data] Downloading package stopwords to\n",
      "[nltk_data]     C:\\Users\\Usuario\\AppData\\Roaming\\nltk_data...\n",
      "[nltk_data]   Package stopwords is already up-to-date!\n"
     ]
    }
   ],
   "source": [
    "nltk.download(\"stopwords\")\n",
    "from nltk.corpus import stopwords"
   ]
  },
  {
   "cell_type": "code",
   "execution_count": 12,
   "metadata": {},
   "outputs": [],
   "source": [
    "stop_words = set(stopwords.words(\"english\"))"
   ]
  },
  {
   "cell_type": "code",
   "execution_count": 13,
   "metadata": {},
   "outputs": [],
   "source": [
    "def remove_stopwords(text):\n",
    "    return [word for word in text if word.casefold() not in stop_words]"
   ]
  },
  {
   "cell_type": "code",
   "execution_count": 14,
   "metadata": {},
   "outputs": [],
   "source": [
    "rem_stopwords = []\n",
    "\n",
    "for description in rem_casing:\n",
    "    tokens = remove_stopwords(description)\n",
    "    rem_stopwords.append(tokens)"
   ]
  },
  {
   "cell_type": "markdown",
   "metadata": {},
   "source": [
    "### Remove unicode symbols"
   ]
  },
  {
   "cell_type": "code",
   "execution_count": 15,
   "metadata": {},
   "outputs": [],
   "source": [
    "import re"
   ]
  },
  {
   "cell_type": "code",
   "execution_count": 16,
   "metadata": {},
   "outputs": [],
   "source": [
    "unicode_regex = re.compile(r'[^\\x00-\\x7F]')"
   ]
  },
  {
   "cell_type": "code",
   "execution_count": 17,
   "metadata": {},
   "outputs": [],
   "source": [
    "def remove_unicode(text):\n",
    "    return [word for word in text if not unicode_regex.search(word)] "
   ]
  },
  {
   "cell_type": "code",
   "execution_count": 18,
   "metadata": {},
   "outputs": [],
   "source": [
    "rem_unicode = []\n",
    "\n",
    "for description in rem_stopwords:\n",
    "    tokens = remove_unicode(description)\n",
    "    rem_unicode.append(tokens)"
   ]
  },
  {
   "cell_type": "markdown",
   "metadata": {},
   "source": [
    "### Remove numbers and digits"
   ]
  },
  {
   "cell_type": "code",
   "execution_count": 19,
   "metadata": {},
   "outputs": [],
   "source": [
    "number_regex = re.compile(r'\\d')"
   ]
  },
  {
   "cell_type": "code",
   "execution_count": 20,
   "metadata": {},
   "outputs": [],
   "source": [
    "def remove_number(text):\n",
    "    return [word for word in text if not number_regex.search(word)] "
   ]
  },
  {
   "cell_type": "code",
   "execution_count": 21,
   "metadata": {},
   "outputs": [],
   "source": [
    "rem_number = []\n",
    "\n",
    "for description in rem_unicode:\n",
    "    tokens = remove_number(description)\n",
    "    rem_number.append(tokens)"
   ]
  },
  {
   "cell_type": "markdown",
   "metadata": {},
   "source": [
    "### Remove Special Words Mixed with String, Numbers, Punctuation, and Other Symbols"
   ]
  },
  {
   "cell_type": "code",
   "execution_count": 22,
   "metadata": {},
   "outputs": [],
   "source": [
    "special_regex = re.compile(r'^(?=.*\\d)(?=.*[A-Za-z])|(?=.*[A-Za-z])(?=.*[\\W_])|(?=.*\\d)(?=.*[\\W_])')"
   ]
  },
  {
   "cell_type": "code",
   "execution_count": 23,
   "metadata": {},
   "outputs": [],
   "source": [
    "def remove_special(text):\n",
    "    return [word for word in text if not special_regex.search(word)] "
   ]
  },
  {
   "cell_type": "code",
   "execution_count": 24,
   "metadata": {},
   "outputs": [],
   "source": [
    "rem_special = []\n",
    "\n",
    "for description in rem_number:\n",
    "    tokens = remove_special(description)\n",
    "    rem_special.append(tokens)"
   ]
  },
  {
   "cell_type": "markdown",
   "metadata": {},
   "source": [
    "### Remove URL"
   ]
  },
  {
   "cell_type": "code",
   "execution_count": 25,
   "metadata": {},
   "outputs": [],
   "source": [
    "url_regex = re.compile(r\"(@\\[A-Za-z0-9]+)|([^0-9A-Za-z \\t])|(\\w+:\\/\\/\\S+)|^rt|http.+?\")"
   ]
  },
  {
   "cell_type": "code",
   "execution_count": 26,
   "metadata": {},
   "outputs": [],
   "source": [
    "def remove_url(text):\n",
    "    return [word for word in text if not url_regex.search(word)]"
   ]
  },
  {
   "cell_type": "code",
   "execution_count": 27,
   "metadata": {},
   "outputs": [],
   "source": [
    "rem_url = []\n",
    "\n",
    "for description in rem_special:\n",
    "    tokens = remove_url(description)\n",
    "    rem_url.append(tokens)"
   ]
  },
  {
   "cell_type": "markdown",
   "metadata": {},
   "source": [
    "### Remove Punctuation"
   ]
  },
  {
   "cell_type": "code",
   "execution_count": 28,
   "metadata": {},
   "outputs": [],
   "source": [
    "import string\n",
    "\n",
    "def remove_punct(text):\n",
    "    return [word for word in text if word not in string.punctuation]"
   ]
  },
  {
   "cell_type": "code",
   "execution_count": 29,
   "metadata": {},
   "outputs": [],
   "source": [
    "rem_punct = []\n",
    "\n",
    "for description in rem_url:\n",
    "    tokens = remove_punct(description)\n",
    "    rem_punct.append(tokens)"
   ]
  },
  {
   "cell_type": "markdown",
   "metadata": {},
   "source": [
    "### Remove Repetitions"
   ]
  },
  {
   "cell_type": "code",
   "execution_count": 30,
   "metadata": {},
   "outputs": [],
   "source": [
    "def remove_duplicates(arr):\n",
    "    return list(set(arr))"
   ]
  },
  {
   "cell_type": "code",
   "execution_count": 31,
   "metadata": {},
   "outputs": [],
   "source": [
    "rem_dupl = []\n",
    "\n",
    "for description in rem_punct:\n",
    "    tokens = remove_duplicates(description)\n",
    "    rem_dupl.append(tokens)"
   ]
  },
  {
   "cell_type": "markdown",
   "metadata": {},
   "source": [
    "### Remove single characters and non-english words"
   ]
  },
  {
   "cell_type": "code",
   "execution_count": 32,
   "metadata": {},
   "outputs": [
    {
     "name": "stderr",
     "output_type": "stream",
     "text": [
      "[nltk_data] Downloading package words to\n",
      "[nltk_data]     C:\\Users\\Usuario\\AppData\\Roaming\\nltk_data...\n",
      "[nltk_data]   Package words is already up-to-date!\n"
     ]
    },
    {
     "data": {
      "text/plain": [
       "True"
      ]
     },
     "execution_count": 32,
     "metadata": {},
     "output_type": "execute_result"
    }
   ],
   "source": [
    "from nltk.corpus import words\n",
    "nltk.download('words')"
   ]
  },
  {
   "cell_type": "code",
   "execution_count": 33,
   "metadata": {},
   "outputs": [],
   "source": [
    "english_words = set(words.words())"
   ]
  },
  {
   "cell_type": "code",
   "execution_count": 34,
   "metadata": {},
   "outputs": [],
   "source": [
    "def remove_non_eng(text):\n",
    "    return [word for word in text if word in english_words]"
   ]
  },
  {
   "cell_type": "code",
   "execution_count": 35,
   "metadata": {},
   "outputs": [],
   "source": [
    "def remove_single_char_words(arr):\n",
    "    return list(filter(lambda word: len(word) > 1, arr))"
   ]
  },
  {
   "cell_type": "code",
   "execution_count": 36,
   "metadata": {},
   "outputs": [],
   "source": [
    "rem_noEnglish = []\n",
    "\n",
    "for description in rem_dupl:\n",
    "    tokens = remove_non_eng(description)\n",
    "    tokens = remove_single_char_words(tokens)\n",
    "    rem_noEnglish.append(tokens)"
   ]
  },
  {
   "cell_type": "markdown",
   "metadata": {},
   "source": [
    "### Remove spelling mistakes"
   ]
  },
  {
   "cell_type": "code",
   "execution_count": 37,
   "metadata": {},
   "outputs": [],
   "source": [
    "from spellchecker import SpellChecker\n",
    "\n",
    "def remove_misspelled_words(arr):\n",
    "    spell = SpellChecker()\n",
    "    return [word for word in arr if word in spell]"
   ]
  },
  {
   "cell_type": "code",
   "execution_count": 38,
   "metadata": {},
   "outputs": [],
   "source": [
    "rem_misspelled = []\n",
    "\n",
    "for description in rem_noEnglish:\n",
    "    tokens = remove_misspelled_words(description)\n",
    "    rem_misspelled.append(tokens)"
   ]
  },
  {
   "cell_type": "markdown",
   "metadata": {},
   "source": [
    "### Lemmatization"
   ]
  },
  {
   "cell_type": "code",
   "execution_count": 39,
   "metadata": {},
   "outputs": [
    {
     "name": "stderr",
     "output_type": "stream",
     "text": [
      "[nltk_data] Downloading package wordnet to\n",
      "[nltk_data]     C:\\Users\\Usuario\\AppData\\Roaming\\nltk_data...\n",
      "[nltk_data]   Package wordnet is already up-to-date!\n",
      "[nltk_data] Downloading package omw-1.4 to\n",
      "[nltk_data]     C:\\Users\\Usuario\\AppData\\Roaming\\nltk_data...\n",
      "[nltk_data]   Package omw-1.4 is already up-to-date!\n"
     ]
    }
   ],
   "source": [
    "from nltk.stem import WordNetLemmatizer\n",
    "nltk.download(\"wordnet\")\n",
    "nltk.download(\"omw-1.4\")\n",
    "\n",
    "# Initialize wordnet lemmatizer\n",
    "wnl = WordNetLemmatizer()"
   ]
  },
  {
   "cell_type": "code",
   "execution_count": 40,
   "metadata": {},
   "outputs": [],
   "source": [
    "def lematize(arr):\n",
    "    return [wnl.lemmatize(word) for word in arr]"
   ]
  },
  {
   "cell_type": "code",
   "execution_count": 41,
   "metadata": {},
   "outputs": [],
   "source": [
    "cleaned_texts = []\n",
    "\n",
    "for description in rem_misspelled:\n",
    "    tokens = lematize(description)\n",
    "    cleaned_texts.append(tokens)"
   ]
  },
  {
   "cell_type": "markdown",
   "metadata": {},
   "source": [
    "## KeyBERT"
   ]
  },
  {
   "cell_type": "code",
   "execution_count": 42,
   "metadata": {},
   "outputs": [
    {
     "name": "stderr",
     "output_type": "stream",
     "text": [
      "c:\\Users\\Usuario\\AppData\\Local\\Programs\\Python\\Python312\\Lib\\site-packages\\sentence_transformers\\cross_encoder\\CrossEncoder.py:11: TqdmExperimentalWarning: Using `tqdm.autonotebook.tqdm` in notebook mode. Use `tqdm.tqdm` instead to force console mode (e.g. in jupyter console)\n",
      "  from tqdm.autonotebook import tqdm, trange\n"
     ]
    }
   ],
   "source": [
    "from keybert import KeyBERT\n",
    "\n",
    "kw_model = KeyBERT()"
   ]
  },
  {
   "cell_type": "code",
   "execution_count": 43,
   "metadata": {},
   "outputs": [],
   "source": [
    "def glue_texts(array):\n",
    "    return [' '.join(tokens) for tokens in array]"
   ]
  },
  {
   "cell_type": "code",
   "execution_count": 44,
   "metadata": {},
   "outputs": [],
   "source": [
    "final_texts = glue_texts(cleaned_texts)"
   ]
  },
  {
   "cell_type": "code",
   "execution_count": 45,
   "metadata": {},
   "outputs": [],
   "source": [
    "keywords_per_text = []\n",
    "for text in final_texts:\n",
    "    keywords = kw_model.extract_keywords(text)\n",
    "    keywords_per_text.append([item[0] for item in keywords])"
   ]
  },
  {
   "cell_type": "markdown",
   "metadata": {},
   "source": [
    "## Jaro-Winkler"
   ]
  },
  {
   "cell_type": "code",
   "execution_count": 54,
   "metadata": {},
   "outputs": [],
   "source": [
    "category_map = {\n",
    "    \"Management\": [\n",
    "        \"General Manager\", \"CEO\", \"Executive Director\", \"Operations Manager\", \"Project Leader\",\n",
    "        \"Program Director\", \"Department Head\", \"Executive Officer\", \"Division Head\", \"Branch Director\",\n",
    "        \"Regional Director\", \"Country Director\", \"Site Director\", \"Organizational Development\",\n",
    "        \"Business Strategy\", \"Leadership Development\", \"Management Consulting\", \"Team Leadership\",\n",
    "        \"Performance Management\", \"Employee Development\", \"Talent Management\", \"Succession Planning\",\n",
    "        \"Conflict Resolution\", \"Staff Management\", \"Workforce Planning\", \"Goal Setting\", \"Performance Appraisal\",\n",
    "        \"HR Management\", \"Financial Management\", \"Marketing Management\", \"Sales Management\",\n",
    "        \"Product Management\", \"IT Management\", \"Quality Management\", \"Supply Chain Management\",\n",
    "        \"Risk Management\", \"Compliance Management\", \"Customer Service Management\", \"Facilities Management\",\n",
    "        \"Administrative Management\", \"Corporate Governance\", \"Business Operations\", \"Stakeholder Management\",\n",
    "        \"Process Improvement\", \"Business Continuity\", \"KPI Management\", \"Resource Allocation\", \"Crisis Management\",\n",
    "        \"Innovation Management\", \"Knowledge Management\", \"Strategic Initiatives\", \"Organizational Behavior\",\n",
    "        \"Change Leadership\", \"Strategic Execution\", \"Leadership Communication\", \"Decision Making\",\n",
    "        \"Resource Optimization\"\n",
    "    ],\n",
    "    \"Sales and Marketing\": [\n",
    "        \"Sales Representative\", \"Sales Manager\", \"Sales Director\", \"Account Executive\",\n",
    "        \"Business Development Representative\", \"Sales Specialist\", \"Marketing Manager\", \"Product Manager\",\n",
    "        \"Marketing Director\", \"Marketing Specialist\", \"Digital Marketing Manager\", \"Content Marketing Manager\",\n",
    "        \"SEO Specialist\", \"Business Development\", \"Market Research\", \"Advertising\", \"Sales Strategies\",\n",
    "        \"Customer Relationship Management\", \"Digital Marketing\", \"Social Media Marketing\", \"Public Relations\",\n",
    "        \"Content Marketing\", \"Email Marketing\", \"Lead Generation\", \"Campaign Management\", \"Market Segmentation\",\n",
    "        \"Sales Forecasting\", \"Customer Engagement\", \"Sales Operations\", \"Promotional Strategies\", \"Sales Enablement\",\n",
    "        \"Marketing Communications\", \"Consumer Behavior\", \"Sales Analytics\", \"Market Analysis\", \"Brand Management\",\n",
    "        \"Customer Insights\", \"Campaign Strategy\", \"Content Strategy\", \"Digital Advertising\", \"Sales Optimization\",\n",
    "        \"Customer Experience Management\", \"Influencer Marketing\", \"Growth Hacking\", \"Performance Marketing\"\n",
    "    ],\n",
    "    \"Engineering and Science\": [\n",
    "        \"Software Engineer\", \"Mechanical Engineer\", \"Electrical Engineer\", \"Civil Engineer\", \"Structural Engineer\",\n",
    "        \"Chemical Engineer\", \"Environmental Engineer\", \"Industrial Engineer\", \"Systems Engineer\", \"Hardware Engineer\",\n",
    "        \"IT Support Specialist\", \"Data Analyst\", \"Systems Analyst\", \"Network Engineer\", \"Database Administrator\",\n",
    "        \"Cybersecurity Specialist\", \"Cloud Computing Specialist\", \"DevOps Engineer\", \"AI Developer\", \"Software Developer\",\n",
    "        \"IT Project Manager\", \"Software Development\", \"Network Security\", \"Cloud Services\", \"Data Management\",\n",
    "        \"Systems Integration\", \"Quality Assurance\", \"Data Engineering\", \"IT Management\", \"Software Architecture\",\n",
    "        \"Digital Transformation\", \"Application Development\", \"Hardware Design\", \"Systems Engineering\",\n",
    "        \"Network Architecture\", \"Cybersecurity Protocols\", \"Data Analytics\", \"Cloud Infrastructure\",\n",
    "        \"Emerging Technologies\", \"Geospatial Analysis\", \"Spatial Data Management\", \"Remote Sensing\",\n",
    "        \"Artificial Intelligence\", \"Machine Learning\", \"Robotics\", \"Big Data Analytics\", \"IoT\", \"Computational Science\",\n",
    "        \"Mathematician\", \"Statistician\", \"Data Scientist\", \"Quantitative Analyst\", \"Actuary\",\n",
    "        \"Mathematical Modeler\", \"Operations Research Analyst\", \"Physicist\", \"Chemist\", \"Astronomer\",\n",
    "        \"Geophysicist\", \"Environmental Scientist\", \"Biochemist\", \"Research Scientist\", \"Laboratory Technician\",\n",
    "        \"Climate Scientist\", \"Mathematical Analysis\", \"Data Modeling\", \"Statistical Analysis\", \"Experimental Research\",\n",
    "        \"Environmental Analysis\", \"Scientific Research\", \"Applied Mathematics\", \"Physical Chemistry\",\n",
    "        \"Organic Chemistry\", \"Inorganic Chemistry\", \"Astrophysics\", \"Quantum Mechanics\",\n",
    "        \"Photonics\", \"Laser Technology\", \"Quantum Computing\", \"Scientific Data Analysis\", \"Experimental Physics\",\n",
    "        \"Statistical Mechanics\", \"Spatial Statistics\", \"Geostatistics\", \"Environmental Modeling\",\n",
    "        \"Neuroscience\", \"Computational Biology\", \"Bioinformatics\", \"Complex Systems\", \"Neurorehabilitation\",\n",
    "        \"Trauma Care\", \"Psychiatric Medicine\", \"Geriatric Medicine\", \"Telemedicine\", \"PhD\", \"Doctorate\",\n",
    "        \"Postdoctoral Research\", \"Academic Research\", \"Research Fellow\", \"Principal Investigator\",\n",
    "        \"Research Associate\", \"Assistant Professor\", \"Associate Professor\", \"Professor\", \"Lecturer\", \"Microbiology\"\n",
    "    ],\n",
    "    \"Finance\": [\n",
    "        \"Accountant\", \"Financial Analyst\", \"Controller\", \"Auditor\", \"Budget Analyst\", \"Investment Analyst\",\n",
    "        \"Treasury Analyst\", \"Risk Manager\", \"Tax Advisor\", \"Credit Analyst\", \"Cash Flow Manager\",\n",
    "        \"Financial Records\", \"Financial Analysis\", \"Compliance\", \"Office Management\", \"Budget Management\",\n",
    "        \"Payroll Management\", \"Accounts Payable\", \"Accounts Receivable\", \"Financial Planning\", \"Corporate Finance\",\n",
    "        \"Cost Accounting\", \"Management Accounting\", \"Financial Reporting\", \"Internal Audit\", \"Business Valuation\",\n",
    "        \"Asset Management\", \"Credit Management\", \"Financial Risk Management\", \"Regulatory Compliance\", \"Treasury Management\",\n",
    "        \"Financial Modeling\", \"Risk Assessment\", \"Budget Planning\", \"Audit Procedures\", \"Financial Strategy\",\n",
    "        \"Administrative Operations\", \"Expense Management\", \"Financial Technology\", \"Fintech Innovations\",\n",
    "        \"Equity Research Analyst\", \"Portfolio Manager\", \"Investment Banker\", \"Financial Consultant\",\n",
    "        \"Hedge Fund Manager\", \"Private Equity Analyst\", \"Venture Capital Analyst\", \"Corporate Treasurer\",\n",
    "        \"Financial Advisor\", \"Commercial Banker\", \"Loan Officer\", \"Trade Analyst\", \"Merger and Acquisition Analyst\",\n",
    "        \"Forensic Accountant\", \"Tax Planner\", \"Estate Planner\", \"Credit Risk Analyst\", \"Quantitative Finance Analyst\",\n",
    "        \"Personal Financial Advisor\", \"Insurance Underwriter\", \"Pension Fund Manager\", \"Real Estate Finance Specialist\"\n",
    "    ],\n",
    "    \"Administration\": [\n",
    "        \"Administrative Assistant\", \"Office Manager\", \"Executive Assistant\", \"Office Administrator\",\n",
    "        \"Receptionist\", \"Clerical Assistant\", \"Data Entry Clerk\", \"Office Coordinator\",\n",
    "        \"Administrative Coordinator\", \"Secretary\", \"Personal Assistant\", \"Administrative Manager\",\n",
    "        \"Front Desk Coordinator\", \"Customer Service Administrator\", \"Records Manager\", \"Office Support Specialist\",\n",
    "        \"Mailroom Clerk\", \"File Clerk\", \"Virtual Assistant\", \"Scheduling Coordinator\", \"Office Operations Manager\",\n",
    "        \"Office Support Supervisor\", \"Executive Secretary\", \"Administrative Support Specialist\", \"Administrative Officer\",\n",
    "        \"Office Supervisor\", \"Administrative Director\", \"Facilities Coordinator\", \"Document Controller\",\n",
    "        \"Administrative Receptionist\", \"Office Assistant\", \"Operations Administrator\"\n",
    "    ],\n",
    "    \"Technical Works\": [\n",
    "        \"Electrician\", \"Plumber\", \"Carpenter\", \"Welder\", \"Machinist\", \"Machine Operator\", \"HVAC Technician\",\n",
    "        \"Automotive Technician\", \"Diesel Mechanic\", \"Industrial Mechanic\", \"Maintenance Technician\",\n",
    "        \"Construction Worker\", \"Heavy Equipment Operator\", \"Line Installer\", \"Cable Technician\", \"Elevator Installer\",\n",
    "        \"Boilermaker\", \"Roofer\", \"Painter\", \"Bricklayer\", \"Forklift Operator\", \"CNC Operator\", \"Tool and Die Maker\",\n",
    "        \"Sheet Metal Worker\", \"Pipefitter\", \"Insulation Worker\", \"Crane Operator\", \"Paving Equipment Operator\",\n",
    "        \"Rig Operator\", \"Power Plant Operator\", \"Wind Turbine Technician\", \"Solar Panel Installer\", \"Glazier\",\n",
    "        \"Lineman\", \"Telecommunications Technician\", \"Security System Installer\", \"Locksmith\",\n",
    "        \"Septic Tank Servicer\", \"Gas Appliance Technician\", \"Aircraft Mechanic\", \"Marine Mechanic\",\n",
    "        \"Railroad Technician\", \"Signal and Track Switch Repairer\", \"Nuclear Technician\", \"Petroleum Technician\",\n",
    "        \"Textile Worker\", \"Printing Press Operator\", \"Quality Control Inspector\", \"Warehouse Associate\",\n",
    "        \"Logistics Coordinator\", \"Material Handler\", \"Production Worker\", \"Assembler\"\n",
    "    ]\n",
    "}"
   ]
  },
  {
   "cell_type": "code",
   "execution_count": 47,
   "metadata": {},
   "outputs": [],
   "source": [
    "from jaro import jaro_winkler_metric"
   ]
  },
  {
   "cell_type": "code",
   "execution_count": 48,
   "metadata": {},
   "outputs": [],
   "source": [
    "def classify_text(extracted_keywords, category_map):\n",
    "    similarity_scores = {}\n",
    "    \n",
    "    def compute_max_similarity(keywords, category_keywords):\n",
    "        max_similarity = 0\n",
    "        for kw in keywords:\n",
    "            for cat_kw in category_keywords:\n",
    "                similarity = jaro_winkler_metric(kw, cat_kw)\n",
    "                if similarity > max_similarity:\n",
    "                    max_similarity = similarity\n",
    "        return max_similarity\n",
    "\n",
    "    for category, keywords in category_map.items():\n",
    "        similarity = compute_max_similarity(extracted_keywords, keywords)\n",
    "        similarity_scores[category] = similarity\n",
    "    \n",
    "    best_category = max(similarity_scores, key=similarity_scores.get)\n",
    "    return best_category, similarity_scores"
   ]
  },
  {
   "cell_type": "code",
   "execution_count": 55,
   "metadata": {},
   "outputs": [
    {
     "name": "stdout",
     "output_type": "stream",
     "text": [
      "['recruiter', 'internship', 'training', 'graduate', 'hire'] Engineering and Science 0.8366402116402116\n",
      "['excellence', 'collaborate', 'comprehensive', 'architect', 'collaboration'] Management 0.7657407407407407\n",
      "['biotic', 'recruiting', 'cultivated', 'agriculture', 'departmental'] Management 0.8333333333333334\n",
      "['qualification', 'career', 'dissertation', 'qualified', 'apply'] Technical Works 0.7962962962962963\n",
      "['engineering', 'postdoctoral', 'chemistry', 'environmental', 'porosity'] Engineering and Science 0.8596491228070176\n",
      "['study', 'researcher', 'cellulosic', 'utilization', 'recruitment'] Sales and Marketing 0.7548821548821548\n",
      "['recruitment', 'increasingly', 'career', 'academic', 'education'] Technical Works 0.7962962962962963\n",
      "['letter', 'employment', 'employer', 'postdoctoral', 'office'] Finance 0.8333333333333334\n",
      "['molecule', 'researcher', 'molecular', 'biological', 'biology'] Engineering and Science 0.7658730158730159\n",
      "['recruitment', 'employment', 'undergraduate', 'supplemental', 'degree'] Finance 0.714565527065527\n",
      "['recruitment', 'recruit', 'qualification', 'associate', 'academic'] Engineering and Science 0.7146358543417367\n",
      "['lecturer', 'postgraduate', 'academic', 'teaching', 'assistant'] Engineering and Science 0.9166666666666666\n",
      "['workplace', 'employ', 'employment', 'management', 'faculty'] Management 0.8641025641025641\n",
      "['postdoctoral', 'advanced', 'training', 'diverse', 'clinical'] Engineering and Science 0.8134920634920636\n",
      "['postdoctoral', 'curriculum', 'architecture', 'thesis', 'interview'] Engineering and Science 0.8134920634920636\n",
      "['biotic', 'study', 'dissertation', 'training', 'academic'] Engineering and Science 0.7527777777777779\n",
      "['qualification', 'chancellor', 'recruitment', 'procedure', 'university'] Engineering and Science 0.7095959595959597\n",
      "['trainee', 'training', 'educated', 'advanced', 'curriculum'] Technical Works 0.7142857142857143\n",
      "['collaborate', 'collaboration', 'contribute', 'entrepreneurship', 'facilitate'] Management 0.7477610109189058\n",
      "['faculty', 'postgraduate', 'lecturer', 'nursing', 'curriculum'] Engineering and Science 0.9166666666666666\n",
      "['comprehensive', 'recruitment', 'advanced', 'essential', 'facilitate'] Engineering and Science 0.7095959595959597\n",
      "['researcher', 'doctoral', 'postdoctoral', 'assessment', 'observatory'] Engineering and Science 0.8134920634920636\n",
      "['participate', 'microbiology', 'enrolled', 'academic', 'apply'] Engineering and Science 0.9444444444444443\n",
      "['applicant', 'recruitment', 'qualification', 'postdoctoral', 'qualified'] Engineering and Science 0.8134920634920636\n",
      "['participate', 'collaborate', 'staff', 'training', 'collaboration'] Management 0.7477610109189058\n",
      "['academic', 'profession', 'clinical', 'disciplinary', 'medical'] Engineering and Science 0.825925925925926\n",
      "['pedagogical', 'teaching', 'lecturer', 'faculty', 'education'] Engineering and Science 0.9166666666666666\n",
      "['recruitment', 'associate', 'assistant', 'assessment', 'qualified'] Finance 0.7962962962962963\n",
      "['postdoctoral', 'career', 'develop', 'doctoral', 'study'] Engineering and Science 0.8134920634920636\n",
      "['faculty', 'recruitment', 'academic', 'assistant', 'teacher'] Administration 0.7546296296296297\n",
      "['training', 'retirement', 'career', 'gym', 'achieve'] Technical Works 0.7962962962962963\n",
      "['recruitment', 'applicant', 'postdoctoral', 'assessment', 'recruit'] Engineering and Science 0.8134920634920636\n",
      "['recruitment', 'recruiting', 'postdoctoral', 'career', 'researcher'] Engineering and Science 0.8134920634920636\n",
      "['diploma', 'doctoral', 'rector', 'letter', 'assistant'] Engineering and Science 0.8055555555555555\n",
      "['cell', 'lab', 'microscopy', 'biology', 'immunology'] Engineering and Science 0.7658730158730159\n",
      "['training', 'curriculum', 'advanced', 'assistant', 'engineering'] Engineering and Science 0.8596491228070176\n",
      "['learning', 'ai', 'validation', 'student', 'position'] Technical Works 0.7619047619047619\n",
      "['biochemistry', 'helix', 'computational', 'consortium', 'synthesis'] Engineering and Science 0.8833333333333333\n",
      "['geochemical', 'geochemistry', 'chemistry', 'methodology', 'qualification'] Engineering and Science 0.8412698412698413\n",
      "['academic', 'qualified', 'diploma', 'faculty', 'institution'] Engineering and Science 0.7146464646464646\n",
      "['supervisory', 'recruitment', 'employment', 'postdoctoral', 'requirement'] Engineering and Science 0.8134920634920636\n",
      "['recruitment', 'accountant', 'compliance', 'supervisory', 'staff'] Finance 0.9333333333333332\n",
      "['academic', 'study', 'student', 'recruitment', 'curriculum'] Engineering and Science 0.7146358543417367\n",
      "['postgraduate', 'recruitment', 'psychiatry', 'faculty', 'training'] Engineering and Science 0.7333333333333334\n",
      "['readiness', 'comprehensive', 'institute', 'study', 'occupational'] Engineering and Science 0.7212962962962962\n",
      "['clinical', 'medical', 'genomic', 'biology', 'biological'] Engineering and Science 0.7658730158730159\n",
      "['recruitment', 'postdoctoral', 'academic', 'campus', 'graduate'] Engineering and Science 0.8134920634920636\n",
      "['qualification', 'admission', 'scholarship', 'diploma', 'applicant'] Finance 0.707936507936508\n",
      "['recruitment', 'council', 'eligibility', 'interview', 'employment'] Technical Works 0.7566137566137566\n",
      "['enrolled', 'enrolment', 'enroll', 'discrimination', 'employment'] Finance 0.7392673992673994\n",
      "['academic', 'educational', 'scholarship', 'develop', 'professional'] Engineering and Science 0.7870370370370371\n",
      "['qualification', 'training', 'alcoholic', 'career', 'employment'] Technical Works 0.7962962962962963\n",
      "['scholarship', 'engineering', 'training', 'faculty', 'sector'] Engineering and Science 0.8596491228070176\n",
      "['curriculum', 'dissertation', 'study', 'academic', 'graduate'] Sales and Marketing 0.7146464646464646\n",
      "['recruitment', 'proficiency', 'participate', 'assessment', 'advanced'] Finance 0.7962962962962963\n",
      "['assistant', 'staff', 'training', 'recruiter', 'contribute'] Engineering and Science 0.8366402116402116\n",
      "['recruitment', 'psychology', 'employment', 'subordinate', 'psychological'] Engineering and Science 0.7666666666666666\n",
      "['microbiology', 'immunology', 'immunity', 'recruitment', 'clinical'] Engineering and Science 0.9444444444444443\n",
      "['recruitment', 'consortium', 'qualification', 'participate', 'technological'] Engineering and Science 0.7245670995670995\n",
      "['postdoctoral', 'applicant', 'researcher', 'recruiting', 'maternity'] Engineering and Science 0.8134920634920636\n",
      "['recruitment', 'specialization', 'employment', 'tenure', 'intermediate'] Sales and Marketing 0.781033781033781\n",
      "['recruitment', 'study', 'prospective', 'thesis', 'curriculum'] Engineering and Science 0.7095959595959597\n",
      "['recruitment', 'nursing', 'resilient', 'disability', 'actively'] Engineering and Science 0.7418546365914787\n",
      "['recruitment', 'postdoctoral', 'applicant', 'qualified', 'certification'] Engineering and Science 0.8134920634920636\n",
      "['fermentation', 'ethanol', 'production', 'management', 'modeling'] Management 0.8641025641025641\n",
      "['diverse', 'committee', 'academic', 'diversity', 'study'] Sales and Marketing 0.757094757094757\n",
      "['recruitment', 'trainee', 'nursing', 'postgraduate', 'staff'] Engineering and Science 0.7418546365914787\n",
      "['recruitment', 'joining', 'collaboration', 'engineer', 'postdoctoral'] Engineering and Science 0.8134920634920636\n",
      "['biological', 'biology', 'academic', 'genomic', 'gene'] Engineering and Science 0.7658730158730159\n",
      "['astronomy', 'postdoctoral', 'applicant', 'researcher', 'astrophysics'] Engineering and Science 0.9444444444444443\n",
      "['recruitment', 'faculty', 'lecturer', 'tenure', 'pedagogical'] Engineering and Science 0.9166666666666666\n",
      "['qualification', 'qualified', 'recruiting', 'postdoctoral', 'training'] Engineering and Science 0.8134920634920636\n",
      "['qualification', 'employment', 'diploma', 'compliance', 'employer'] Finance 0.9333333333333332\n",
      "['stimulus', 'academic', 'associate', 'advanced', 'faculty'] Engineering and Science 0.7146358543417367\n",
      "['competency', 'recruitment', 'qualification', 'postgraduate', 'applicant'] Engineering and Science 0.7222222222222222\n",
      "['postgraduate', 'senior', 'academic', 'achieve', 'qualified'] Engineering and Science 0.7440476190476191\n",
      "['reproductive', 'clinical', 'physiology', 'supervision', 'educational'] Technical Works 0.7124183006535948\n",
      "['qualification', 'climate', 'applicant', 'dissertation', 'qualified'] Engineering and Science 0.7366946778711485\n",
      "['optical', 'spectrometer', 'spectrometry', 'spectroscopy', 'semiconductor'] Finance 0.7634920634920634\n",
      "['cultivation', 'microbiology', 'biota', 'agricultural', 'ecological'] Engineering and Science 0.9444444444444443\n",
      "['study', 'academic', 'staff', 'organizational', 'educational'] Engineering and Science 0.7146358543417367\n",
      "['occupational', 'diversity', 'diverse', 'marine', 'qualified'] Sales and Marketing 0.757094757094757\n",
      "['laboratory', 'study', 'microscopy', 'biophysics', 'doctoral'] Engineering and Science 0.8222222222222223\n",
      "['recruitment', 'applicant', 'postdoctoral', 'qualified', 'recruit'] Engineering and Science 0.8134920634920636\n",
      "['qualification', 'qualified', 'geosphere', 'geological', 'recruiting'] Technical Works 0.7311688311688312\n",
      "['recruitment', 'employment', 'employee', 'workplace', 'worker'] Finance 0.7555555555555555\n",
      "['recruitment', 'applicant', 'diploma', 'academic', 'organizational'] Engineering and Science 0.7146358543417367\n",
      "['procurement', 'engineering', 'documentation', 'engineer', 'strategic'] Engineering and Science 0.8596491228070176\n",
      "['recruitment', 'postdoctoral', 'assistant', 'nursing', 'academic'] Engineering and Science 0.8134920634920636\n",
      "['curriculum', 'qualification', 'academic', 'faculty', 'internship'] Technical Works 0.7380952380952381\n",
      "['specialization', 'physiology', 'academic', 'postdoctoral', 'biochemistry'] Engineering and Science 0.8833333333333333\n",
      "['postgraduate', 'entrepreneur', 'entrepreneurship', 'doctoral', 'entrepreneurial'] Engineering and Science 0.8055555555555555\n",
      "['recruitment', 'postdoctoral', 'corpus', 'outreach', 'career'] Engineering and Science 0.8134920634920636\n",
      "['advanced', 'academic', 'physical', 'field', 'undergraduate'] Engineering and Science 0.7546296296296297\n",
      "['postdoctoral', 'recruitment', 'applicant', 'mentorship', 'spectrometry'] Engineering and Science 0.8134920634920636\n",
      "['interview', 'recruitment', 'institute', 'faculty', 'application'] Technical Works 0.7566137566137566\n",
      "['postdoctoral', 'biochemistry', 'training', 'biology', 'health'] Engineering and Science 0.8833333333333333\n",
      "['recruitment', 'genomic', 'recruit', 'diverse', 'research'] Finance 0.7264492753623188\n",
      "['recruitment', 'postdoctoral', 'academic', 'medical', 'personnel'] Engineering and Science 0.8134920634920636\n",
      "['computational', 'collaboration', 'postdoctoral', 'uncertainty', 'modeling'] Engineering and Science 0.8315018315018315\n",
      "['recruitment', 'eligibility', 'applicant', 'recruit', 'apply'] Engineering and Science 0.7130952380952381\n",
      "['meteorology', 'computational', 'advanced', 'forecast', 'development'] Engineering and Science 0.8315018315018315\n",
      "['resume', 'advanced', 'training', 'academic', 'career'] Technical Works 0.7962962962962963\n",
      "['diploma', 'applicant', 'rector', 'lecturer', 'certificate'] Engineering and Science 0.9166666666666666\n",
      "['fieldwork', 'hydraulic', 'sediment', 'process', 'participate'] Engineering and Science 0.7566137566137566\n",
      "['grading', 'curriculum', 'assessment', 'employment', 'employ'] Finance 0.7962962962962963\n",
      "Similar offers 106\n",
      "Total offers 107\n",
      "99.06542056074767 %\n"
     ]
    }
   ],
   "source": [
    "similarCount = 0\n",
    "\n",
    "for keywords in keywords_per_text:\n",
    "    best_category, similarity_scores = classify_text(keywords, category_map)\n",
    "    if (similarity_scores[best_category] >= 0.7):\n",
    "        similarCount += 1\n",
    "        print (keywords, best_category, similarity_scores[best_category])\n",
    "print (\"Similar offers\", similarCount)\n",
    "print (\"Total offers\", len(keywords_per_text))\n",
    "print (similarCount/len(keywords_per_text) * 100, \"%\")"
   ]
  }
 ],
 "metadata": {
  "kernelspec": {
   "display_name": "Python 3",
   "language": "python",
   "name": "python3"
  },
  "language_info": {
   "codemirror_mode": {
    "name": "ipython",
    "version": 3
   },
   "file_extension": ".py",
   "mimetype": "text/x-python",
   "name": "python",
   "nbconvert_exporter": "python",
   "pygments_lexer": "ipython3",
   "version": "3.12.4"
  }
 },
 "nbformat": 4,
 "nbformat_minor": 2
}
