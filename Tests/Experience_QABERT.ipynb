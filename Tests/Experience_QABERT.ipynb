{
 "cells": [
  {
   "cell_type": "markdown",
   "metadata": {},
   "source": [
    "##  Query and Answer model with a large context using BERT"
   ]
  },
  {
   "cell_type": "markdown",
   "metadata": {},
   "source": [
    "### Load the BERT Model and Tokenizer"
   ]
  },
  {
   "cell_type": "code",
   "execution_count": 2,
   "metadata": {},
   "outputs": [],
   "source": [
    "from transformers import pipeline\n",
    "\n",
    "pipe = pipeline(\"question-answering\", model=\"deepset/roberta-base-squad2\")"
   ]
  },
  {
   "cell_type": "markdown",
   "metadata": {},
   "source": [
    "### Load The Data"
   ]
  },
  {
   "cell_type": "code",
   "execution_count": 3,
   "metadata": {},
   "outputs": [],
   "source": [
    "import pandas as pd\n",
    "\n",
    "excel_file = './Euraxess_GNSS_Keywords.xlsx'\n",
    "df = pd.read_excel(excel_file)\n",
    "\n",
    "sampled_df = df.head(10).copy()"
   ]
  },
  {
   "cell_type": "markdown",
   "metadata": {},
   "source": [
    "### Prepare Data"
   ]
  },
  {
   "cell_type": "code",
   "execution_count": 4,
   "metadata": {},
   "outputs": [],
   "source": [
    "sampled_df['Concatenated'] = sampled_df[['Title', 'OfferDescription']].apply(lambda x: ' '.join(x.dropna().astype(str)), axis=1)\n",
    "\n",
    "contexts = sampled_df['Concatenated'].tolist()\n",
    "\n",
    "question = \"What is the minimum number of years of experience required for the position?\""
   ]
  },
  {
   "cell_type": "markdown",
   "metadata": {},
   "source": [
    "### Make Predictions"
   ]
  },
  {
   "cell_type": "code",
   "execution_count": 5,
   "metadata": {},
   "outputs": [
    {
     "name": "stdout",
     "output_type": "stream",
     "text": [
      "{'score': 0.00046479160664603114, 'start': 332, 'end': 347, 'answer': 'master’s degree'}\n",
      "{'score': 1.0550173101364635e-05, 'start': 3270, 'end': 3277, 'answer': '5 years'}\n",
      "{'score': 0.0001117139108828269, 'start': 318, 'end': 333, 'answer': 'master’s degree'}\n",
      "{'score': 1.696400431683287e-06, 'start': 0, 'end': 19, 'answer': 'Assistant Professor'}\n",
      "{'score': 0.000854936835821718, 'start': 0, 'end': 5, 'answer': '93018'}\n",
      "{'score': 0.15300992131233215, 'start': 1553, 'end': 1556, 'answer': '2.5'}\n",
      "{'score': 0.0027826877776533365, 'start': 0, 'end': 5, 'answer': '92448'}\n",
      "{'score': 0.23561438918113708, 'start': 2154, 'end': 2155, 'answer': '2'}\n",
      "{'score': 0.0005386663251556456, 'start': 0, 'end': 5, 'answer': '92103'}\n",
      "{'score': 0.002884439192712307, 'start': 0, 'end': 5, 'answer': '91842'}\n"
     ]
    }
   ],
   "source": [
    "for context in contexts:\n",
    "    print(pipe(context = context, question = question))\n",
    "    "
   ]
  }
 ],
 "metadata": {
  "kernelspec": {
   "display_name": "Python 3",
   "language": "python",
   "name": "python3"
  },
  "language_info": {
   "codemirror_mode": {
    "name": "ipython",
    "version": 3
   },
   "file_extension": ".py",
   "mimetype": "text/x-python",
   "name": "python",
   "nbconvert_exporter": "python",
   "pygments_lexer": "ipython3",
   "version": "3.12.4"
  }
 },
 "nbformat": 4,
 "nbformat_minor": 2
}
