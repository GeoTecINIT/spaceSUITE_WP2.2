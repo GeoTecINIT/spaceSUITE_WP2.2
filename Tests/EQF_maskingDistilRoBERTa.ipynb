{
 "cells": [
  {
   "cell_type": "markdown",
   "metadata": {},
   "source": [
    "## EQF Classification with Masking DistilRoBERTa"
   ]
  },
  {
   "cell_type": "markdown",
   "metadata": {},
   "source": [
    "### Load the pre-trained zeroShot RoBERTa tokenizer and model"
   ]
  },
  {
   "cell_type": "code",
   "execution_count": 43,
   "metadata": {},
   "outputs": [],
   "source": [
    "from transformers import pipeline\n",
    "\n",
    "# Load the model and tokenizer\n",
    "model_name = \"distilbert-base-uncased\"  # or \"distilroberta-base\"\n",
    "fill_mask = pipeline(\"fill-mask\", model=model_name)"
   ]
  },
  {
   "cell_type": "markdown",
   "metadata": {},
   "source": [
    "### Load Data"
   ]
  },
  {
   "cell_type": "code",
   "execution_count": 44,
   "metadata": {},
   "outputs": [],
   "source": [
    "import pandas as pd\n",
    "\n",
    "excel_file = './job_descriptions.csv'\n",
    "df = pd.read_csv(excel_file)\n",
    "\n",
    "sampled_df = df.head(1000).copy()"
   ]
  },
  {
   "cell_type": "markdown",
   "metadata": {},
   "source": [
    "### Prepare Data"
   ]
  },
  {
   "cell_type": "code",
   "execution_count": 45,
   "metadata": {},
   "outputs": [],
   "source": [
    "sampled_df['Concatenated'] = sampled_df[['Job Title', 'Job Description', 'skills', 'Responsibilities']].apply(lambda x: ' '.join(x.dropna().astype(str)), axis=1)\n",
    "\n",
    "texts = sampled_df['Concatenated'].tolist()\n",
    "true_labels = sampled_df['Qualifications'].tolist()\n",
    "\n",
    "candidate_labels = list(set(true_labels))"
   ]
  },
  {
   "cell_type": "markdown",
   "metadata": {},
   "source": [
    "### Classify"
   ]
  },
  {
   "cell_type": "code",
   "execution_count": 52,
   "metadata": {},
   "outputs": [],
   "source": [
    "from difflib import SequenceMatcher\n",
    "\n",
    "predictions = []\n",
    "mask = []\n",
    "\n",
    "semantic_fields = {\n",
    "    \"Bachelor's Degree\": [\"bachelor\", \"undergraduate\", \"baccalaureate\", \"college\", \"university\", \"BS\", \"BA\", \"AB\", \"regular\", \"common\", \"basic\"],\n",
    "    \"Master’s Degree\": [\"master\", \"graduate\", \"postgraduate\", \"MSc\", \"MA\", \"MS\", \"MPhil\", \"MBA\", \"high\", \"advanced\", \"specialized\"],\n",
    "    \"PhD or Doctorate\": [\"phd\", \"doctorate\", \"doctoral\", \"Ph.D.\", \"research\", \"DPhil\", \"EdD\", \"very high\", \"expert\", \"specialist\"]\n",
    "}\n",
    "\n",
    "def calculate_similarity(predicted_token, semantic_field):\n",
    "    max_similarity = 0.0\n",
    "    for token in semantic_field:\n",
    "        similarity = SequenceMatcher(None, predicted_token, token).ratio()\n",
    "        if similarity > max_similarity:\n",
    "            max_similarity = similarity\n",
    "    return max_similarity\n",
    "\n",
    "for text in texts:\n",
    "    # Append the masked sentence to the job offer text\n",
    "    masked_text = text + \". A [MASK] degree is preferred for this role.\"\n",
    "    \n",
    "    # Get predictions for the masked token\n",
    "    pred = fill_mask(masked_text)\n",
    "    \n",
    "    # Extract predictions and calculate similarity\n",
    "    best_label = None\n",
    "    best_mask = None\n",
    "    max_similarity = 0.0\n",
    "    \n",
    "    for prediction in pred:\n",
    "        predicted_token = prediction['token_str']\n",
    "        confidence_score = prediction['score']\n",
    "        \n",
    "        # Calculate similarity with each semantic field\n",
    "        for category, semantic_field in semantic_fields.items():\n",
    "            similarity = calculate_similarity(predicted_token, semantic_field)\n",
    "            if similarity > max_similarity:\n",
    "                max_similarity = similarity\n",
    "                best_label = category\n",
    "                best_mask = predicted_token\n",
    "    \n",
    "    # Add predicted label with highest similarity to predictions array\n",
    "    predictions.append(best_label)\n",
    "    mask.append(best_mask)"
   ]
  },
  {
   "cell_type": "markdown",
   "metadata": {},
   "source": [
    "### Evaluate"
   ]
  },
  {
   "cell_type": "code",
   "execution_count": 53,
   "metadata": {},
   "outputs": [
    {
     "name": "stdout",
     "output_type": "stream",
     "text": [
      "Accuracy: 0.1860\n",
      "Job Offer: Digital Marketing Specialist Social Media Managers oversee an organizations social media presence. They create and schedule content, engage with followers, and analyze social media metrics to drive brand awareness and engagement. Social media platforms (e.g., Facebook, Twitter, Instagram) Content creation and scheduling Social media analytics and insights Community engagement Paid social advertising Manage and grow social media accounts, create engaging content, and interact with the online community. Develop social media content calendars and strategies. Monitor social media trends and engagement metrics.\n",
      "True Label: Master’s Degree, Predicted: PhD or Doctorate, Mask: doctorate\n",
      "-----\n",
      "Job Offer: Web Developer Frontend Web Developers design and implement user interfaces for websites, ensuring they are visually appealing and user-friendly. They collaborate with designers and backend developers to create seamless web experiences for users. HTML, CSS, JavaScript Frontend frameworks (e.g., React, Angular) User experience (UX) Design and code user interfaces for websites, ensuring a seamless and visually appealing user experience. Collaborate with UX designers to optimize user journeys. Ensure cross-browser compatibility and responsive design.\n",
      "True Label: Bachelor's Degree, Predicted: Master’s Degree, Mask: high\n",
      "-----\n",
      "Job Offer: Operations Manager Quality Control Managers establish and enforce quality standards within an organization. They develop quality control processes, perform inspections, and implement corrective actions to maintain product or service quality. Quality control processes and methodologies Statistical process control (SPC) Root cause analysis and corrective action Quality management systems (e.g., ISO 9001) Compliance and regulatory knowledge Establish and enforce quality control standards and procedures. Conduct quality audits and inspections. Collaborate with production teams to address quality issues and implement improvements.\n",
      "True Label: PhD or Doctorate, Predicted: PhD or Doctorate, Mask: doctoral\n",
      "-----\n",
      "Job Offer: Network Engineer Wireless Network Engineers design, implement, and maintain wireless network solutions. They optimize wireless connectivity, troubleshoot issues, and ensure reliable and secure wireless communications. Wireless network design and architecture Wi-Fi standards and protocols RF (Radio Frequency) planning and optimization Wireless security protocols Troubleshooting wireless network issues Design, configure, and optimize wireless networks, ensuring reliable and secure wireless connectivity. Troubleshoot wireless network issues. Plan and implement wireless network upgrades.\n",
      "True Label: PhD or Doctorate, Predicted: Master’s Degree, Mask: high\n",
      "-----\n",
      "Job Offer: Event Manager A Conference Manager coordinates and manages conferences, meetings, and events. They plan logistics, handle budgeting, liaise with vendors, and ensure the smooth execution of events, catering to the needs and expectations of attendees. Event planning Conference logistics Budget management Vendor coordination Marketing and promotion Client relations Specialize in conference and convention planning. Coordinate speaker sessions, exhibitors, and attendee experiences. Oversee event registration and marketing.\n",
      "True Label: Master’s Degree, Predicted: PhD or Doctorate, Mask: doctorate\n",
      "-----\n",
      "Job Offer: Software Tester A Quality Assurance Analyst tests software and products to ensure they meet quality standards. They identify defects, report issues, and work with development teams to resolve problems. Quality assurance processes Testing methodologies (e.g., manual, automated) Bug tracking and reporting Test case development Regression testing Test software applications and systems to identify defects and ensure quality. Create test plans, test cases, and test scripts. Collaborate with development teams to resolve issues.\n",
      "True Label: Master’s Degree, Predicted: PhD or Doctorate, Mask: doctoral\n",
      "-----\n",
      "Job Offer: Teacher A Classroom Teacher educates students in a specific subject or grade level. They create lesson plans, deliver instruction, assess student progress, and foster a positive learning environment. Teaching pedagogy Classroom management Curriculum development Student assessment Differentiated instruction Plan and deliver engaging lessons, adapting teaching methods to student needs. Assess student progress and provide feedback. Create a positive and inclusive classroom environment.\n",
      "True Label: PhD or Doctorate, Predicted: PhD or Doctorate, Mask: doctoral\n",
      "-----\n",
      "Job Offer: UX/UI Designer User Interface Designers focus on the visual and interactive aspects of digital interfaces. They design layouts, buttons, and other elements to ensure a cohesive and visually appealing user interface. UI design principles and best practices Graphic design tools (e.g., Adobe Photoshop, Illustrator) Typography and color theory Visual design and layout Responsive design Create visually appealing user interfaces (UI) that align with brand aesthetics and enhance user engagement. Design interface elements and interactive components. Ensure UI consistency across digital platforms.\n",
      "True Label: Master’s Degree, Predicted: Master’s Degree, Mask: high\n",
      "-----\n"
     ]
    }
   ],
   "source": [
    "correct = 0\n",
    "total = len(true_labels)\n",
    "\n",
    "for true_label, pred_label in zip(true_labels, predictions):\n",
    "    if pred_label in candidate_labels and pred_label == true_label:\n",
    "        correct += 1\n",
    "\n",
    "accuracy = correct / total\n",
    "print(f\"Accuracy: {accuracy:.4f}\")\n",
    "\n",
    "# Optional: Print some examples of predictions vs true labels\n",
    "for i in range(8):\n",
    "    print(f\"Job Offer: {texts[i]}\")\n",
    "    print(f\"True Label: {true_labels[i]}, Predicted: {predictions[i]}, Mask: {mask[i]}\")\n",
    "    print(\"-----\")"
   ]
  }
 ],
 "metadata": {
  "kernelspec": {
   "display_name": "Python 3",
   "language": "python",
   "name": "python3"
  },
  "language_info": {
   "codemirror_mode": {
    "name": "ipython",
    "version": 3
   },
   "file_extension": ".py",
   "mimetype": "text/x-python",
   "name": "python",
   "nbconvert_exporter": "python",
   "pygments_lexer": "ipython3",
   "version": "3.12.4"
  }
 },
 "nbformat": 4,
 "nbformat_minor": 2
}
