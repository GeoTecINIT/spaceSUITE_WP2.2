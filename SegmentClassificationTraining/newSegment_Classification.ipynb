{
 "cells": [
  {
   "cell_type": "markdown",
   "metadata": {},
   "source": [
    "# ZeroShot Academic Classification + Segment Fine Tuned Bert Classification"
   ]
  },
  {
   "cell_type": "markdown",
   "metadata": {},
   "source": [
    "## Load Data"
   ]
  },
  {
   "cell_type": "code",
   "execution_count": 27,
   "metadata": {},
   "outputs": [],
   "source": [
    "import pandas as pd\n",
    "\n",
    "fileName = 'Test_Results_Translated'\n",
    "excel_file = '../' + fileName + '.xlsx'\n",
    "\n",
    "df = pd.read_excel(excel_file)"
   ]
  },
  {
   "cell_type": "markdown",
   "metadata": {},
   "source": [
    "## Academic Classification"
   ]
  },
  {
   "cell_type": "markdown",
   "metadata": {},
   "source": [
    "### Load the pre-trained zeroShot RoBERTa tokenizer and model"
   ]
  },
  {
   "cell_type": "code",
   "execution_count": 28,
   "metadata": {},
   "outputs": [],
   "source": [
    "from transformers import AutoTokenizer, AutoModelForSequenceClassification\n",
    "\n",
    "model_name = \"MoritzLaurer/deberta-v3-large-zeroshot-v2.0-c\"\n",
    "tokenizer = AutoTokenizer.from_pretrained(model_name)\n",
    "model = AutoModelForSequenceClassification.from_pretrained(model_name)"
   ]
  },
  {
   "cell_type": "markdown",
   "metadata": {},
   "source": [
    "### Create a Zero-Shot Classification pipeline"
   ]
  },
  {
   "cell_type": "code",
   "execution_count": 29,
   "metadata": {},
   "outputs": [],
   "source": [
    "from transformers import pipeline\n",
    "\n",
    "classifier = pipeline(\"zero-shot-classification\", model=model, tokenizer=tokenizer)"
   ]
  },
  {
   "cell_type": "markdown",
   "metadata": {},
   "source": [
    "### Text Preprocessing"
   ]
  },
  {
   "cell_type": "code",
   "execution_count": 30,
   "metadata": {},
   "outputs": [],
   "source": [
    "from nltk.corpus import stopwords\n",
    "import string\n",
    "\n",
    "# Define text preprocessing function\n",
    "def preprocess_text(text):\n",
    "    stop_words = set(stopwords.words('english'))\n",
    "    # Convert to lowercase\n",
    "    text = text.lower()\n",
    "    # Remove punctuation\n",
    "    text = ''.join([char for char in text if char not in string.punctuation])\n",
    "    # Tokenize and remove stopwords\n",
    "    text = ' '.join([word for word in text.split() if word not in stop_words])\n",
    "    return text"
   ]
  },
  {
   "cell_type": "code",
   "execution_count": 31,
   "metadata": {},
   "outputs": [],
   "source": [
    "# Apply preprocessing\n",
    "df['cleaned_text'] = df['Descriptions'].apply(preprocess_text)"
   ]
  },
  {
   "cell_type": "code",
   "execution_count": 32,
   "metadata": {},
   "outputs": [
    {
     "data": {
      "text/html": [
       "<div>\n",
       "<style scoped>\n",
       "    .dataframe tbody tr th:only-of-type {\n",
       "        vertical-align: middle;\n",
       "    }\n",
       "\n",
       "    .dataframe tbody tr th {\n",
       "        vertical-align: top;\n",
       "    }\n",
       "\n",
       "    .dataframe thead th {\n",
       "        text-align: right;\n",
       "    }\n",
       "</style>\n",
       "<table border=\"1\" class=\"dataframe\">\n",
       "  <thead>\n",
       "    <tr style=\"text-align: right;\">\n",
       "      <th></th>\n",
       "      <th>Descriptions</th>\n",
       "      <th>cleaned_text</th>\n",
       "    </tr>\n",
       "  </thead>\n",
       "  <tbody>\n",
       "    <tr>\n",
       "      <th>0</th>\n",
       "      <td>ANNOUNCEMENT FOR THE AWARD OF MASTER ' S DEGRE...</td>\n",
       "      <td>announcement award master degree 28 ecum cfum ...</td>\n",
       "    </tr>\n",
       "    <tr>\n",
       "      <th>1</th>\n",
       "      <td>Université Claude Bernard Lyon 1 - Hosting off...</td>\n",
       "      <td>université claude bernard lyon 1 hosting offer...</td>\n",
       "    </tr>\n",
       "    <tr>\n",
       "      <th>2</th>\n",
       "      <td>PhD student in cell biology M / F Located on t...</td>\n",
       "      <td>phd student cell biology f located luminy camp...</td>\n",
       "    </tr>\n",
       "    <tr>\n",
       "      <th>3</th>\n",
       "      <td>Research associate / PhD candidate ( f / m / d...</td>\n",
       "      <td>research associate phd candidate f area resear...</td>\n",
       "    </tr>\n",
       "    <tr>\n",
       "      <th>4</th>\n",
       "      <td>Health Sciences - University Professor The sco...</td>\n",
       "      <td>health sciences university professor scope dut...</td>\n",
       "    </tr>\n",
       "  </tbody>\n",
       "</table>\n",
       "</div>"
      ],
      "text/plain": [
       "                                        Descriptions  \\\n",
       "0  ANNOUNCEMENT FOR THE AWARD OF MASTER ' S DEGRE...   \n",
       "1  Université Claude Bernard Lyon 1 - Hosting off...   \n",
       "2  PhD student in cell biology M / F Located on t...   \n",
       "3  Research associate / PhD candidate ( f / m / d...   \n",
       "4  Health Sciences - University Professor The sco...   \n",
       "\n",
       "                                        cleaned_text  \n",
       "0  announcement award master degree 28 ecum cfum ...  \n",
       "1  université claude bernard lyon 1 hosting offer...  \n",
       "2  phd student cell biology f located luminy camp...  \n",
       "3  research associate phd candidate f area resear...  \n",
       "4  health sciences university professor scope dut...  "
      ]
     },
     "execution_count": 32,
     "metadata": {},
     "output_type": "execute_result"
    }
   ],
   "source": [
    "# Check the cleaned data\n",
    "df[['Descriptions', 'cleaned_text']].head()"
   ]
  },
  {
   "cell_type": "markdown",
   "metadata": {},
   "source": [
    "### Prepare Data"
   ]
  },
  {
   "cell_type": "code",
   "execution_count": 33,
   "metadata": {},
   "outputs": [],
   "source": [
    "texts = df['cleaned_text'].tolist()\n",
    "\n",
    "academic_labels = ['Academic', 'Not Academic']\n",
    "research_labels = ['Professor', 'PHD', 'Postdoc', 'Researcher']"
   ]
  },
  {
   "cell_type": "markdown",
   "metadata": {},
   "source": [
    "### Classify"
   ]
  },
  {
   "cell_type": "code",
   "execution_count": 34,
   "metadata": {},
   "outputs": [],
   "source": [
    "predicted_labels = []\n",
    "for text in texts:\n",
    "    result = classifier(text, candidate_labels=academic_labels)\n",
    "    if result['labels'][0] == 'Academic':\n",
    "        academicResult = classifier(text, candidate_labels=research_labels)\n",
    "        predicted_labels.append(academicResult['labels'][0])\n",
    "    else:\n",
    "        predicted_labels.append('-')\n",
    "    \n",
    "df['Academic'] = predicted_labels"
   ]
  },
  {
   "cell_type": "markdown",
   "metadata": {},
   "source": [
    "## Segment Classification"
   ]
  },
  {
   "cell_type": "markdown",
   "metadata": {},
   "source": [
    "### Load Model"
   ]
  },
  {
   "cell_type": "code",
   "execution_count": 35,
   "metadata": {},
   "outputs": [],
   "source": [
    "import joblib\n",
    "\n",
    "# Guardar el modelo\n",
    "model = joblib.load('segment_model.pkl')"
   ]
  },
  {
   "cell_type": "markdown",
   "metadata": {},
   "source": [
    "### Initialize BERT Tokenizer"
   ]
  },
  {
   "cell_type": "code",
   "execution_count": 36,
   "metadata": {},
   "outputs": [],
   "source": [
    "from transformers import BertTokenizer\n",
    "\n",
    "tokenizer = BertTokenizer.from_pretrained('bert-base-uncased')"
   ]
  },
  {
   "cell_type": "markdown",
   "metadata": {},
   "source": [
    "### Classify"
   ]
  },
  {
   "cell_type": "code",
   "execution_count": 37,
   "metadata": {},
   "outputs": [],
   "source": [
    "label_map = {'Space': 0,\n",
    " 'Maritime and Inland Waterways': 1,\n",
    " 'Consumer Solutions, Tourism and Health': 2,\n",
    " 'Infrastructure': 3,\n",
    " 'Road and Automotive': 4,\n",
    " 'Fisheries and Aquaculture': 5,\n",
    " 'Emergency Management and Humanitarian Aid': 6,\n",
    " 'Climate, Environment, and Biodiversity ': 7,\n",
    " 'Insurance and Finance': 8,\n",
    " 'Rail': 9,\n",
    " 'Aviation and Drones': 10,\n",
    " 'Urban Development and Cultural Heritage': 11,\n",
    " 'Rail ': 12,\n",
    " 'Forestry': 13,\n",
    " 'Energy and Raw Materials': 14,\n",
    " 'Agriculture': 15}"
   ]
  },
  {
   "cell_type": "code",
   "execution_count": 38,
   "metadata": {},
   "outputs": [],
   "source": [
    "import torch\n",
    "\n",
    "jobTypes = []\n",
    "\n",
    "for text, academic in zip(df['cleaned_text'].to_list(), df['Academic'].to_list()):\n",
    "    finalResult = ''\n",
    "    if academic != '-':\n",
    "        finalResult = '-'\n",
    "    else:\n",
    "        inputs = tokenizer(text, truncation=True, padding=True, return_tensors=\"pt\")\n",
    "\n",
    "        model.eval()\n",
    "        # Realizar predicciones\n",
    "        with torch.no_grad():\n",
    "            outputs = model(**inputs)\n",
    "            logits = outputs.logits\n",
    "\n",
    "        # Obtener las predicciones de clase\n",
    "        predictions = torch.argmax(logits, dim=-1)\n",
    "\n",
    "        # Convertir las predicciones de índices a etiquetas (si se desea)\n",
    "        predicted_labels = [list(label_map.keys())[list(label_map.values()).index(pred)] for pred in predictions]\n",
    "\n",
    "        if not predicted_labels:\n",
    "            finalResult = \"Undefined\"\n",
    "        else:\n",
    "            finalResult = predicted_labels[0]\n",
    "    jobTypes.append(finalResult)\n",
    "    \n",
    "df['MarketSegment'] = jobTypes\n",
    "del df['cleaned_text']\n",
    "df.to_excel('../' + fileName + '_Segment.xlsx', index=False, engine='openpyxl')"
   ]
  },
  {
   "cell_type": "markdown",
   "metadata": {},
   "source": [
    "### Calculate Accuracy"
   ]
  },
  {
   "cell_type": "code",
   "execution_count": 39,
   "metadata": {},
   "outputs": [
    {
     "name": "stdout",
     "output_type": "stream",
     "text": [
      "Academic Accuracy: 77.78%\n",
      "\n",
      " ----------------------------- \n",
      "\n",
      "Segment Accuracy: 84.44%\n",
      "\n",
      " ----------------------------- \n",
      "\n",
      "Document Annotated\n"
     ]
    }
   ],
   "source": [
    "# Calculate accuracy\n",
    "true_categories = df['Academia'].tolist()\n",
    "predicted_categories = df['Academic'].tolist()\n",
    "\n",
    "# Count correct predictions\n",
    "correct_predictions = sum(1 for true, pred in zip(true_categories, predicted_categories) if true == pred)\n",
    "\n",
    "# Calculate percentage accuracy\n",
    "accuracy = (correct_predictions / len(predicted_categories)) * 100\n",
    "\n",
    "# Print the result\n",
    "print(f\"Academic Accuracy: {accuracy:.2f}%\")\n",
    "\n",
    "print(\"\\n ----------------------------- \\n\")\n",
    "\n",
    "# Calculate accuracy\n",
    "true_categories = df['Segment'].tolist()\n",
    "predicted_categories = df['MarketSegment'].tolist()\n",
    "\n",
    "# Count correct predictions\n",
    "correct_predictions = sum(1 for true, pred in zip(true_categories, predicted_categories) if true == pred)\n",
    "\n",
    "# Calculate percentage accuracy\n",
    "accuracy = (correct_predictions / len(predicted_categories)) * 100\n",
    "\n",
    "# Print the result\n",
    "print(f\"Segment Accuracy: {accuracy:.2f}%\")\n",
    "\n",
    "print(\"\\n ----------------------------- \\n\")\n",
    "\n",
    "print(\"Document Annotated\")"
   ]
  }
 ],
 "metadata": {
  "kernelspec": {
   "display_name": "Python 3",
   "language": "python",
   "name": "python3"
  },
  "language_info": {
   "codemirror_mode": {
    "name": "ipython",
    "version": 3
   },
   "file_extension": ".py",
   "mimetype": "text/x-python",
   "name": "python",
   "nbconvert_exporter": "python",
   "pygments_lexer": "ipython3",
   "version": "3.12.4"
  }
 },
 "nbformat": 4,
 "nbformat_minor": 2
}
