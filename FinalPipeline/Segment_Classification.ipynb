{
 "cells": [
  {
   "cell_type": "markdown",
   "metadata": {},
   "source": [
    "# ZeroShot Academic Classification + Segment Fine Tuned Bert Classification"
   ]
  },
  {
   "cell_type": "markdown",
   "metadata": {},
   "source": [
    "## Load Data"
   ]
  },
  {
   "cell_type": "code",
   "execution_count": 6,
   "metadata": {},
   "outputs": [],
   "source": [
    "import pandas as pd\n",
    "\n",
    "fileName = 'test_data_Translated'\n",
    "excel_file = '../' + fileName + '.xlsx'\n",
    "\n",
    "df = pd.read_excel(excel_file)"
   ]
  },
  {
   "cell_type": "markdown",
   "metadata": {},
   "source": [
    "## Academic Classification"
   ]
  },
  {
   "cell_type": "markdown",
   "metadata": {},
   "source": [
    "### Load the pre-trained zeroShot RoBERTa tokenizer and model"
   ]
  },
  {
   "cell_type": "code",
   "execution_count": 7,
   "metadata": {},
   "outputs": [],
   "source": [
    "from transformers import AutoTokenizer, AutoModelForSequenceClassification\n",
    "\n",
    "model_name = \"MoritzLaurer/deberta-v3-large-zeroshot-v2.0-c\"\n",
    "tokenizer = AutoTokenizer.from_pretrained(model_name)\n",
    "model = AutoModelForSequenceClassification.from_pretrained(model_name)"
   ]
  },
  {
   "cell_type": "markdown",
   "metadata": {},
   "source": [
    "### Create a Zero-Shot Classification pipeline"
   ]
  },
  {
   "cell_type": "code",
   "execution_count": 8,
   "metadata": {},
   "outputs": [],
   "source": [
    "from transformers import pipeline\n",
    "\n",
    "classifier = pipeline(\"zero-shot-classification\", model=model, tokenizer=tokenizer)"
   ]
  },
  {
   "cell_type": "markdown",
   "metadata": {},
   "source": [
    "### Text Preprocessing"
   ]
  },
  {
   "cell_type": "code",
   "execution_count": 9,
   "metadata": {},
   "outputs": [],
   "source": [
    "from nltk.corpus import stopwords\n",
    "import string\n",
    "\n",
    "# Define text preprocessing function\n",
    "def preprocess_text(text):\n",
    "    stop_words = set(stopwords.words('english'))\n",
    "    # Convert to lowercase\n",
    "    text = text.lower()\n",
    "    # Remove punctuation\n",
    "    text = ''.join([char for char in text if char not in string.punctuation])\n",
    "    # Tokenize and remove stopwords\n",
    "    text = ' '.join([word for word in text.split() if word not in stop_words])\n",
    "    return text"
   ]
  },
  {
   "cell_type": "code",
   "execution_count": 10,
   "metadata": {},
   "outputs": [],
   "source": [
    "columns = ['Title', 'Description', 'Requirements', 'Short_description', 'Field']\n",
    "existing_columns = [col for col in columns if col in df.columns]\n",
    "\n",
    "df['cleaned_text'] = df[existing_columns].copy().apply(lambda x: '. '.join(x.dropna().astype(str)), axis=1).apply(preprocess_text)"
   ]
  },
  {
   "cell_type": "markdown",
   "metadata": {},
   "source": [
    "### Prepare Data"
   ]
  },
  {
   "cell_type": "code",
   "execution_count": 11,
   "metadata": {},
   "outputs": [],
   "source": [
    "texts = df['cleaned_text'].tolist()\n",
    "\n",
    "academic_labels = ['Academic', 'Not Academic']\n",
    "research_labels = ['Professor', 'PHD', 'Researcher']"
   ]
  },
  {
   "cell_type": "markdown",
   "metadata": {},
   "source": [
    "### Classify"
   ]
  },
  {
   "cell_type": "code",
   "execution_count": 12,
   "metadata": {},
   "outputs": [],
   "source": [
    "predicted_labels = []\n",
    "for text in texts:\n",
    "    result = classifier(text, candidate_labels=academic_labels)\n",
    "    if result['labels'][0] == 'Academic':\n",
    "        academicResult = classifier(text, candidate_labels=research_labels)\n",
    "        predicted_labels.append(academicResult['labels'][0])\n",
    "    else:\n",
    "        predicted_labels.append('-')\n",
    "    \n",
    "df['Academic'] = predicted_labels"
   ]
  },
  {
   "cell_type": "markdown",
   "metadata": {},
   "source": [
    "## Segment Classification"
   ]
  },
  {
   "cell_type": "markdown",
   "metadata": {},
   "source": [
    "### Classify"
   ]
  },
  {
   "cell_type": "code",
   "execution_count": 13,
   "metadata": {},
   "outputs": [],
   "source": [
    "label_map = {\n",
    "    \"Aerospace and Transportation\": [\n",
    "        \"Aviation and Drones\", \"Space\", \"Maritime and Inland Waterways\", \"Rail\", \"Road and Automotive\"\n",
    "    ],\n",
    "    \"Infrastructure and Urban Development\": [\n",
    "        \"Infrastructure\", \"Urban Development and Cultural Heritage\"\n",
    "    ],\n",
    "    \"Natural Resource Management and Energy systems\": [\n",
    "        \"Agriculture\", \"Fisheries and Aquaculture\", \"Forestry\", \"Climate, Environment, and Biodiversity\", \"Energy and Raw Materials\"\n",
    "    ],\n",
    "    \"Societal Services, Finance and Humanitarian Aid\": [\n",
    "        \"Emergency Management and Humanitarian Aid\", \"Consumer Solutions, Tourism and Health\", \"Insurance and Finance\"\n",
    "    ]\n",
    "}"
   ]
  },
  {
   "cell_type": "code",
   "execution_count": 14,
   "metadata": {},
   "outputs": [],
   "source": [
    "jobTypes = []\n",
    "\n",
    "for text, academic in zip(df['cleaned_text'].to_list(), df['Academic'].to_list()):\n",
    "    finalResult = '-'\n",
    "    if academic == '-':\n",
    "        firstResult = classifier(text, candidate_labels=list(label_map.keys()))\n",
    "        secondResult = classifier(text, candidate_labels=label_map.get(firstResult['labels'][0]))\n",
    "        finalResult = secondResult['labels'][0]\n",
    "    jobTypes.append(finalResult)\n",
    "    \n",
    "df['MarketSegment'] = jobTypes\n",
    "del df['cleaned_text']\n",
    "df.to_excel('../' + fileName + '_Segment.xlsx', index=False, engine='openpyxl')"
   ]
  },
  {
   "cell_type": "markdown",
   "metadata": {},
   "source": [
    "### Calculate Accuracy"
   ]
  },
  {
   "cell_type": "code",
   "execution_count": 15,
   "metadata": {},
   "outputs": [
    {
     "name": "stdout",
     "output_type": "stream",
     "text": [
      "Academic Accuracy: 85.48%\n",
      "\n",
      " ----------------------------- \n",
      "\n",
      "Segment Accuracy: 64.32%\n",
      "\n",
      " ----------------------------- \n",
      "\n",
      "Document Annotated\n"
     ]
    }
   ],
   "source": [
    "# Calculate accuracy\n",
    "true_categories = df['Academia'].tolist()\n",
    "predicted_categories = df['Academic'].tolist()\n",
    "\n",
    "# Count correct predictions\n",
    "correct_predictions = sum(1 for true, pred in zip(true_categories, predicted_categories) if true == pred)\n",
    "\n",
    "# Calculate percentage accuracy\n",
    "accuracy = (correct_predictions / len(predicted_categories)) * 100\n",
    "\n",
    "# Print the result\n",
    "print(f\"Academic Accuracy: {accuracy:.2f}%\")\n",
    "\n",
    "print(\"\\n ----------------------------- \\n\")\n",
    "\n",
    "# Calculate accuracy\n",
    "true_categories = df['Segment'].tolist()\n",
    "predicted_categories = df['MarketSegment'].tolist()\n",
    "\n",
    "# Count correct predictions\n",
    "correct_predictions = sum(1 for true, pred in zip(true_categories, predicted_categories) if true == pred)\n",
    "\n",
    "# Calculate percentage accuracy\n",
    "accuracy = (correct_predictions / len(predicted_categories)) * 100\n",
    "\n",
    "# Print the result\n",
    "print(f\"Segment Accuracy: {accuracy:.2f}%\")\n",
    "\n",
    "print(\"\\n ----------------------------- \\n\")\n",
    "\n",
    "print(\"Document Annotated\")"
   ]
  }
 ],
 "metadata": {
  "kernelspec": {
   "display_name": "Python 3",
   "language": "python",
   "name": "python3"
  },
  "language_info": {
   "codemirror_mode": {
    "name": "ipython",
    "version": 3
   },
   "file_extension": ".py",
   "mimetype": "text/x-python",
   "name": "python",
   "nbconvert_exporter": "python",
   "pygments_lexer": "ipython3",
   "version": "3.12.4"
  }
 },
 "nbformat": 4,
 "nbformat_minor": 2
}
