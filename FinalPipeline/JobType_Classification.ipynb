{
  "cells": [
    {
      "cell_type": "markdown",
      "metadata": {
        "id": "aYZjzUFnev3K"
      },
      "source": [
        "# Job Type NuNER-Zero KeyBERT Jaro-Winkler Classification"
      ]
    },
    {
      "cell_type": "markdown",
      "metadata": {
        "id": "WD6LsXGvev3K"
      },
      "source": [
        "## Load Data"
      ]
    },
    {
      "cell_type": "code",
      "execution_count": 1,
      "metadata": {
        "id": "bRahIJmMev3K"
      },
      "outputs": [],
      "source": [
        "import pandas as pd\n",
        "\n",
        "fileName = 'Test_Results_Translated'\n",
        "excel_file = '../' + fileName + '.xlsx'\n",
        "\n",
        "df = pd.read_excel(excel_file)"
      ]
    },
    {
      "cell_type": "code",
      "execution_count": 2,
      "metadata": {
        "id": "ursXcn5Pev3L"
      },
      "outputs": [],
      "source": [
        "columns = ['Title', 'OfferDescription', 'Requirements', 'Responsibilities', 'AdditionalInformation', 'Descriptions']\n",
        "existing_columns = [col for col in columns if col in df.columns]\n",
        "\n",
        "descriptions = df[existing_columns].copy().apply(lambda x: '. '.join(x.dropna().astype(str)), axis=1).tolist()"
      ]
    },
    {
      "cell_type": "markdown",
      "metadata": {
        "id": "vIp9n7Ypev3L"
      },
      "source": [
        "## NuNER-Zero"
      ]
    },
    {
      "cell_type": "markdown",
      "metadata": {
        "id": "RV0BxwLzev3L"
      },
      "source": [
        "### Load Model"
      ]
    },
    {
      "cell_type": "code",
      "execution_count": 3,
      "metadata": {
        "colab": {
          "base_uri": "https://localhost:8080/",
          "height": 106,
          "referenced_widgets": [
            "f414a7536795426a8f11a7fbee01e147",
            "b6eaa2c66a26493491167e1a4aaec559",
            "6f932929d95b42b6823018a95f3832aa",
            "f10f4d0371d04c2d847349422d4483d7",
            "379fd32be9654aa2aee037c0077cbf07",
            "c5363505e1d24dda89bf0e27cc20da65",
            "28eb189a70a447288c8f111ba27311dc",
            "f985aaa2ca3341a9a44bee2ae4d79992",
            "ebb0debf4f9b4ae6bea066cff04a3d2b",
            "97081c5a419642c8a25a7d9f8a1a6267",
            "2076b6425e3843aab89c23651d3f29d8"
          ]
        },
        "id": "mbInszV9ev3L",
        "outputId": "6302f9d5-588f-41bf-dec8-19829b95d9ae"
      },
      "outputs": [
        {
          "data": {
            "application/vnd.jupyter.widget-view+json": {
              "model_id": "929c24a5058f4e3ea11aca71e489ff08",
              "version_major": 2,
              "version_minor": 0
            },
            "text/plain": [
              "Fetching 6 files:   0%|          | 0/6 [00:00<?, ?it/s]"
            ]
          },
          "metadata": {},
          "output_type": "display_data"
        },
        {
          "name": "stderr",
          "output_type": "stream",
          "text": [
            "c:\\Users\\Usuario\\AppData\\Local\\Programs\\Python\\Python312\\Lib\\site-packages\\transformers\\convert_slow_tokenizer.py:562: UserWarning: The sentencepiece tokenizer that you are converting to a fast tokenizer uses the byte fallback option which is not implemented in the fast tokenizers. In practice this means that the fast version of the tokenizer can produce unknown tokens whereas the sentencepiece version would have converted these unknown tokens into a sequence of byte tokens matching the original piece of text.\n",
            "  warnings.warn(\n"
          ]
        }
      ],
      "source": [
        "import torch\n",
        "from gliner import GLiNER\n",
        "\n",
        "device = torch.device('cuda:0') if torch.cuda.is_available() else torch.device('cpu')\n",
        "\n",
        "model = GLiNER.from_pretrained(\"numind/NuNerZero\")\n",
        "model = model.to(device)"
      ]
    },
    {
      "cell_type": "markdown",
      "metadata": {
        "id": "oB5DN6zhev3L"
      },
      "source": [
        "### Merge Entities Function"
      ]
    },
    {
      "cell_type": "code",
      "execution_count": 4,
      "metadata": {
        "id": "iUC82YBdev3L"
      },
      "outputs": [],
      "source": [
        "def merge_entities(entities):\n",
        "    if not entities:\n",
        "        return []\n",
        "    merged = []\n",
        "    current = entities[0]\n",
        "    for next_entity in entities[1:]:\n",
        "        if next_entity['label'] == current['label'] and (next_entity['start'] == current['end'] + 1 or next_entity['start'] == current['end']):\n",
        "            current['text'] = text[current['start']: next_entity['end']].strip()\n",
        "            current['end'] = next_entity['end']\n",
        "        else:\n",
        "            merged.append(current)\n",
        "            current = next_entity\n",
        "    # Append the last entity\n",
        "    merged.append(current)\n",
        "    return merged"
      ]
    },
    {
      "cell_type": "markdown",
      "metadata": {
        "id": "5UyKG4Szev3L"
      },
      "source": [
        "### Evaluate"
      ]
    },
    {
      "cell_type": "code",
      "execution_count": 5,
      "metadata": {},
      "outputs": [],
      "source": [
        "def split_text(text, max_length=384):\n",
        "    segments = []\n",
        "    start = 0\n",
        "\n",
        "    while start < len(text):\n",
        "        end = min(start + max_length, len(text))\n",
        "        split_point = text.rfind('.', start, end)\n",
        "\n",
        "        if split_point == -1 or end == len(text):\n",
        "            segments.append(text[start:end])\n",
        "            break\n",
        "        else:\n",
        "            segments.append(text[start:split_point + 1])\n",
        "            start = split_point + 1\n",
        "\n",
        "    return segments"
      ]
    },
    {
      "cell_type": "code",
      "execution_count": 6,
      "metadata": {
        "colab": {
          "base_uri": "https://localhost:8080/"
        },
        "id": "CRygtOrQev3L",
        "outputId": "377f1f37-9329-4488-edc3-0f43719cbb6d"
      },
      "outputs": [
        {
          "name": "stderr",
          "output_type": "stream",
          "text": [
            "Asking to truncate to max_length but no maximum length is provided and the model has no predefined maximum length. Default to no truncation.\n"
          ]
        }
      ],
      "source": [
        "# NuZero requires labels to be lower-cased!\n",
        "labels = [\"Field\", \"Job Type\", \"Task\"]\n",
        "labels = [l.lower() for l in labels]\n",
        "\n",
        "textFields = []\n",
        "\n",
        "for text in descriptions:\n",
        "    result = split_text(text)\n",
        "\n",
        "    for segment in result:\n",
        "        entities = model.predict_entities(segment, labels)\n",
        "        entities = merge_entities(entities)\n",
        "\n",
        "        fields = []\n",
        "\n",
        "        for entity in entities:\n",
        "            fields.append(entity[\"text\"])\n",
        "\n",
        "    textFields.append(fields)\n"
      ]
    },
    {
      "cell_type": "markdown",
      "metadata": {
        "id": "CaQCTUj_ev3M"
      },
      "source": [
        "## Prepare Data"
      ]
    },
    {
      "cell_type": "markdown",
      "metadata": {
        "id": "MaRc6K3Yev3M"
      },
      "source": [
        "### Tokenization"
      ]
    },
    {
      "cell_type": "code",
      "execution_count": 7,
      "metadata": {
        "colab": {
          "base_uri": "https://localhost:8080/"
        },
        "id": "eSjphJRkev3M",
        "outputId": "3406bf5e-7dd6-48c3-beed-b53748104d13"
      },
      "outputs": [
        {
          "name": "stderr",
          "output_type": "stream",
          "text": [
            "[nltk_data] Downloading package punkt to\n",
            "[nltk_data]     C:\\Users\\Usuario\\AppData\\Roaming\\nltk_data...\n",
            "[nltk_data]   Package punkt is already up-to-date!\n"
          ]
        },
        {
          "data": {
            "text/plain": [
              "True"
            ]
          },
          "execution_count": 7,
          "metadata": {},
          "output_type": "execute_result"
        }
      ],
      "source": [
        "import nltk\n",
        "from nltk import word_tokenize\n",
        "nltk.download('punkt')"
      ]
    },
    {
      "cell_type": "code",
      "execution_count": 8,
      "metadata": {
        "id": "1MCrQU_xev3M"
      },
      "outputs": [],
      "source": [
        "descriptions_token = []\n",
        "\n",
        "for description in descriptions:\n",
        "    tokens = word_tokenize(description)\n",
        "    descriptions_token.append(tokens)"
      ]
    },
    {
      "cell_type": "markdown",
      "metadata": {
        "id": "UTWAPpzCev3M"
      },
      "source": [
        "### Remove Hyphens"
      ]
    },
    {
      "cell_type": "code",
      "execution_count": 9,
      "metadata": {
        "id": "wTNyUvHsev3M"
      },
      "outputs": [],
      "source": [
        "def remove_hyphens(text):\n",
        "    return [item.strip('-') for item in text]"
      ]
    },
    {
      "cell_type": "code",
      "execution_count": 10,
      "metadata": {
        "id": "j7pdEElBev3M"
      },
      "outputs": [],
      "source": [
        "rem_hyphens = []\n",
        "\n",
        "for description in descriptions_token:\n",
        "    tokens = remove_hyphens(description)\n",
        "    rem_hyphens.append(tokens)"
      ]
    },
    {
      "cell_type": "markdown",
      "metadata": {
        "id": "fvTye9ASev3M"
      },
      "source": [
        "### Lowcase all the text"
      ]
    },
    {
      "cell_type": "code",
      "execution_count": 11,
      "metadata": {
        "id": "bOrN4d2rev3M"
      },
      "outputs": [],
      "source": [
        "def lowercase_text(text):\n",
        "    return [item.lower() for item in text]"
      ]
    },
    {
      "cell_type": "code",
      "execution_count": 12,
      "metadata": {
        "id": "gWWPDMhQev3M"
      },
      "outputs": [],
      "source": [
        "lowcase_descriptions = []\n",
        "\n",
        "for description in rem_hyphens:\n",
        "    tokens = lowercase_text(description)\n",
        "    lowcase_descriptions.append(tokens)"
      ]
    },
    {
      "cell_type": "markdown",
      "metadata": {
        "id": "cRVosoiJev3M"
      },
      "source": [
        "### Remove casing"
      ]
    },
    {
      "cell_type": "code",
      "execution_count": 13,
      "metadata": {
        "id": "O6l_hiYyev3M"
      },
      "outputs": [],
      "source": [
        "def remove_case(text):\n",
        "    return [item.strip('[]') for item in text]"
      ]
    },
    {
      "cell_type": "code",
      "execution_count": 14,
      "metadata": {
        "id": "hn-uoZvUev3M"
      },
      "outputs": [],
      "source": [
        "rem_casing = []\n",
        "\n",
        "for description in lowcase_descriptions:\n",
        "    tokens = remove_case(description)\n",
        "    rem_casing.append(tokens)"
      ]
    },
    {
      "cell_type": "markdown",
      "metadata": {
        "id": "hNjeVgNyev3M"
      },
      "source": [
        "### Remove stopwords"
      ]
    },
    {
      "cell_type": "code",
      "execution_count": 15,
      "metadata": {
        "colab": {
          "base_uri": "https://localhost:8080/"
        },
        "id": "iMQB0uaIev3M",
        "outputId": "8a46248c-acf2-47b8-ec07-130ad6eae20f"
      },
      "outputs": [
        {
          "name": "stderr",
          "output_type": "stream",
          "text": [
            "[nltk_data] Downloading package stopwords to\n",
            "[nltk_data]     C:\\Users\\Usuario\\AppData\\Roaming\\nltk_data...\n",
            "[nltk_data]   Package stopwords is already up-to-date!\n"
          ]
        }
      ],
      "source": [
        "nltk.download(\"stopwords\")\n",
        "from nltk.corpus import stopwords"
      ]
    },
    {
      "cell_type": "code",
      "execution_count": 16,
      "metadata": {
        "id": "4l7GsdPbev3N"
      },
      "outputs": [],
      "source": [
        "stop_words = set(stopwords.words(\"english\"))"
      ]
    },
    {
      "cell_type": "code",
      "execution_count": 17,
      "metadata": {
        "id": "WCcmP1hhev3N"
      },
      "outputs": [],
      "source": [
        "def remove_stopwords(text):\n",
        "    return [word for word in text if word.casefold() not in stop_words]"
      ]
    },
    {
      "cell_type": "code",
      "execution_count": 18,
      "metadata": {
        "id": "vM7VvKmmev3N"
      },
      "outputs": [],
      "source": [
        "rem_stopwords = []\n",
        "\n",
        "for description in rem_casing:\n",
        "    tokens = remove_stopwords(description)\n",
        "    rem_stopwords.append(tokens)"
      ]
    },
    {
      "cell_type": "markdown",
      "metadata": {
        "id": "a894-z5mev3N"
      },
      "source": [
        "### Remove unicode symbols"
      ]
    },
    {
      "cell_type": "code",
      "execution_count": 19,
      "metadata": {
        "id": "uNfgFvuuev3N"
      },
      "outputs": [],
      "source": [
        "import re"
      ]
    },
    {
      "cell_type": "code",
      "execution_count": 20,
      "metadata": {
        "id": "9fwMVrRkev3N"
      },
      "outputs": [],
      "source": [
        "unicode_regex = re.compile(r'[^\\x00-\\x7F]')"
      ]
    },
    {
      "cell_type": "code",
      "execution_count": 21,
      "metadata": {
        "id": "oscEznuXev3N"
      },
      "outputs": [],
      "source": [
        "def remove_unicode(text):\n",
        "    return [word for word in text if not unicode_regex.search(word)]"
      ]
    },
    {
      "cell_type": "code",
      "execution_count": 22,
      "metadata": {
        "id": "D4atEyY8ev3N"
      },
      "outputs": [],
      "source": [
        "rem_unicode = []\n",
        "\n",
        "for description in rem_stopwords:\n",
        "    tokens = remove_unicode(description)\n",
        "    rem_unicode.append(tokens)"
      ]
    },
    {
      "cell_type": "markdown",
      "metadata": {
        "id": "QNe0SVW-ev3N"
      },
      "source": [
        "### Remove numbers and digits"
      ]
    },
    {
      "cell_type": "code",
      "execution_count": 23,
      "metadata": {
        "id": "NNzb7nxvev3N"
      },
      "outputs": [],
      "source": [
        "number_regex = re.compile(r'\\d')"
      ]
    },
    {
      "cell_type": "code",
      "execution_count": 24,
      "metadata": {
        "id": "iJhltSI7ev3N"
      },
      "outputs": [],
      "source": [
        "def remove_number(text):\n",
        "    return [word for word in text if not number_regex.search(word)]"
      ]
    },
    {
      "cell_type": "code",
      "execution_count": 25,
      "metadata": {
        "id": "nEzrxScJev3N"
      },
      "outputs": [],
      "source": [
        "rem_number = []\n",
        "\n",
        "for description in rem_unicode:\n",
        "    tokens = remove_number(description)\n",
        "    rem_number.append(tokens)"
      ]
    },
    {
      "cell_type": "markdown",
      "metadata": {
        "id": "ZlB8WYtwev3N"
      },
      "source": [
        "### Remove Special Words Mixed with String, Numbers, Punctuation, and Other Symbols"
      ]
    },
    {
      "cell_type": "code",
      "execution_count": 26,
      "metadata": {
        "id": "fxt92lFhev3O"
      },
      "outputs": [],
      "source": [
        "special_regex = re.compile(r'^(?=.*\\d)(?=.*[A-Za-z])|(?=.*[A-Za-z])(?=.*[\\W_])|(?=.*\\d)(?=.*[\\W_])')"
      ]
    },
    {
      "cell_type": "code",
      "execution_count": 27,
      "metadata": {
        "id": "S-yiyla0ev3O"
      },
      "outputs": [],
      "source": [
        "def remove_special(text):\n",
        "    return [word for word in text if not special_regex.search(word)]"
      ]
    },
    {
      "cell_type": "code",
      "execution_count": 28,
      "metadata": {
        "id": "5rRV1BtOev3O"
      },
      "outputs": [],
      "source": [
        "rem_special = []\n",
        "\n",
        "for description in rem_number:\n",
        "    tokens = remove_special(description)\n",
        "    rem_special.append(tokens)"
      ]
    },
    {
      "cell_type": "markdown",
      "metadata": {
        "id": "ZNyuDPH0ev3O"
      },
      "source": [
        "### Remove URL"
      ]
    },
    {
      "cell_type": "code",
      "execution_count": 29,
      "metadata": {
        "id": "jgKt9M5Kev3O"
      },
      "outputs": [],
      "source": [
        "url_regex = re.compile(r\"(@\\[A-Za-z0-9]+)|([^0-9A-Za-z \\t])|(\\w+:\\/\\/\\S+)|^rt|http.+?\")"
      ]
    },
    {
      "cell_type": "code",
      "execution_count": 30,
      "metadata": {
        "id": "pN0Iooyoev3O"
      },
      "outputs": [],
      "source": [
        "def remove_url(text):\n",
        "    return [word for word in text if not url_regex.search(word)]"
      ]
    },
    {
      "cell_type": "code",
      "execution_count": 31,
      "metadata": {
        "id": "-zQzkMKnev3O"
      },
      "outputs": [],
      "source": [
        "rem_url = []\n",
        "\n",
        "for description in rem_special:\n",
        "    tokens = remove_url(description)\n",
        "    rem_url.append(tokens)"
      ]
    },
    {
      "cell_type": "markdown",
      "metadata": {
        "id": "UPFwmF3zev3O"
      },
      "source": [
        "### Remove Punctuation"
      ]
    },
    {
      "cell_type": "code",
      "execution_count": 32,
      "metadata": {
        "id": "08_rru7rev3O"
      },
      "outputs": [],
      "source": [
        "import string\n",
        "\n",
        "def remove_punct(text):\n",
        "    return [word for word in text if word not in string.punctuation]"
      ]
    },
    {
      "cell_type": "code",
      "execution_count": 33,
      "metadata": {
        "id": "jf-s-OLlev3O"
      },
      "outputs": [],
      "source": [
        "rem_punct = []\n",
        "\n",
        "for description in rem_url:\n",
        "    tokens = remove_punct(description)\n",
        "    rem_punct.append(tokens)"
      ]
    },
    {
      "cell_type": "markdown",
      "metadata": {
        "id": "5-A-dQPuev3O"
      },
      "source": [
        "### Remove Repetitions"
      ]
    },
    {
      "cell_type": "code",
      "execution_count": 34,
      "metadata": {
        "id": "zJ0N5JEBev3O"
      },
      "outputs": [],
      "source": [
        "def remove_duplicates(arr):\n",
        "    return list(set(arr))"
      ]
    },
    {
      "cell_type": "code",
      "execution_count": 35,
      "metadata": {
        "id": "hvo1zTdNev3O"
      },
      "outputs": [],
      "source": [
        "rem_dupl = []\n",
        "\n",
        "for description in rem_punct:\n",
        "    tokens = remove_duplicates(description)\n",
        "    rem_dupl.append(tokens)"
      ]
    },
    {
      "cell_type": "markdown",
      "metadata": {
        "id": "nC0OllLbev3O"
      },
      "source": [
        "### Remove single characters and non-english words"
      ]
    },
    {
      "cell_type": "code",
      "execution_count": 36,
      "metadata": {
        "colab": {
          "base_uri": "https://localhost:8080/"
        },
        "id": "2XEEqKDMev3P",
        "outputId": "5225a8ad-13a9-4de2-d5d0-7b4ea7ad1845"
      },
      "outputs": [
        {
          "name": "stderr",
          "output_type": "stream",
          "text": [
            "[nltk_data] Downloading package words to\n",
            "[nltk_data]     C:\\Users\\Usuario\\AppData\\Roaming\\nltk_data...\n",
            "[nltk_data]   Package words is already up-to-date!\n"
          ]
        },
        {
          "data": {
            "text/plain": [
              "True"
            ]
          },
          "execution_count": 36,
          "metadata": {},
          "output_type": "execute_result"
        }
      ],
      "source": [
        "from nltk.corpus import words\n",
        "nltk.download('words')"
      ]
    },
    {
      "cell_type": "code",
      "execution_count": 37,
      "metadata": {
        "id": "i3KA4AU4ev3P"
      },
      "outputs": [],
      "source": [
        "english_words = set(words.words())"
      ]
    },
    {
      "cell_type": "code",
      "execution_count": 38,
      "metadata": {
        "id": "H1EMPyLLev3P"
      },
      "outputs": [],
      "source": [
        "def remove_non_eng(text):\n",
        "    return [word for word in text if word in english_words]"
      ]
    },
    {
      "cell_type": "code",
      "execution_count": 39,
      "metadata": {
        "id": "m8tRK1pNev3P"
      },
      "outputs": [],
      "source": [
        "def remove_single_char_words(arr):\n",
        "    return list(filter(lambda word: len(word) > 1, arr))"
      ]
    },
    {
      "cell_type": "code",
      "execution_count": 40,
      "metadata": {
        "id": "WqCMOTeiev3P"
      },
      "outputs": [],
      "source": [
        "rem_noEnglish = []\n",
        "\n",
        "for description in rem_dupl:\n",
        "    tokens = remove_non_eng(description)\n",
        "    tokens = remove_single_char_words(tokens)\n",
        "    rem_noEnglish.append(tokens)"
      ]
    },
    {
      "cell_type": "markdown",
      "metadata": {
        "id": "l1gjCPp-ev3P"
      },
      "source": [
        "### Remove spelling mistakes"
      ]
    },
    {
      "cell_type": "code",
      "execution_count": 41,
      "metadata": {
        "id": "ywwGrdzeev3P"
      },
      "outputs": [],
      "source": [
        "from spellchecker import SpellChecker\n",
        "\n",
        "def remove_misspelled_words(arr):\n",
        "    spell = SpellChecker()\n",
        "    return [word for word in arr if word in spell]"
      ]
    },
    {
      "cell_type": "code",
      "execution_count": 42,
      "metadata": {
        "id": "MfWtPv_tev3P"
      },
      "outputs": [],
      "source": [
        "rem_misspelled = []\n",
        "\n",
        "for description in rem_noEnglish:\n",
        "    tokens = remove_misspelled_words(description)\n",
        "    rem_misspelled.append(tokens)"
      ]
    },
    {
      "cell_type": "markdown",
      "metadata": {
        "id": "7mogXvmjev3P"
      },
      "source": [
        "### Lemmatization"
      ]
    },
    {
      "cell_type": "code",
      "execution_count": 43,
      "metadata": {
        "colab": {
          "base_uri": "https://localhost:8080/"
        },
        "id": "EiU8ypNRev3P",
        "outputId": "202903a2-13ee-47d6-c59b-9bd71c4dc573"
      },
      "outputs": [
        {
          "name": "stderr",
          "output_type": "stream",
          "text": [
            "[nltk_data] Downloading package wordnet to\n",
            "[nltk_data]     C:\\Users\\Usuario\\AppData\\Roaming\\nltk_data...\n",
            "[nltk_data]   Package wordnet is already up-to-date!\n",
            "[nltk_data] Downloading package omw-1.4 to\n",
            "[nltk_data]     C:\\Users\\Usuario\\AppData\\Roaming\\nltk_data...\n",
            "[nltk_data]   Package omw-1.4 is already up-to-date!\n"
          ]
        }
      ],
      "source": [
        "from nltk.stem import WordNetLemmatizer\n",
        "nltk.download(\"wordnet\")\n",
        "nltk.download(\"omw-1.4\")\n",
        "\n",
        "# Initialize wordnet lemmatizer\n",
        "wnl = WordNetLemmatizer()"
      ]
    },
    {
      "cell_type": "code",
      "execution_count": 44,
      "metadata": {
        "id": "fuoA4m9uev3P"
      },
      "outputs": [],
      "source": [
        "def lematize(arr):\n",
        "    return [wnl.lemmatize(word) for word in arr]"
      ]
    },
    {
      "cell_type": "code",
      "execution_count": 45,
      "metadata": {
        "id": "iOjkeDHCev3P"
      },
      "outputs": [],
      "source": [
        "cleaned_texts = []\n",
        "\n",
        "for description in rem_misspelled:\n",
        "    tokens = lematize(description)\n",
        "    cleaned_texts.append(tokens)"
      ]
    },
    {
      "cell_type": "markdown",
      "metadata": {
        "id": "Erp-Q7_Cev3P"
      },
      "source": [
        "## KeyBERT"
      ]
    },
    {
      "cell_type": "code",
      "execution_count": 46,
      "metadata": {
        "id": "NLf-PLlxev3P"
      },
      "outputs": [],
      "source": [
        "from sentence_transformers import SentenceTransformer\n",
        "from keybert import KeyBERT\n",
        "\n",
        "model = SentenceTransformer(\"all-MiniLM-L6-v2\")\n",
        "model = model.to(device)\n",
        "\n",
        "kw_model = KeyBERT(model)"
      ]
    },
    {
      "cell_type": "code",
      "execution_count": 47,
      "metadata": {
        "id": "CrKSVHhuev3P"
      },
      "outputs": [],
      "source": [
        "def glue_texts(array):\n",
        "    return [' '.join(tokens) for tokens in array]"
      ]
    },
    {
      "cell_type": "code",
      "execution_count": 48,
      "metadata": {
        "id": "0UmQcrgLev3Q"
      },
      "outputs": [],
      "source": [
        "final_texts = glue_texts(cleaned_texts)"
      ]
    },
    {
      "cell_type": "code",
      "execution_count": 49,
      "metadata": {
        "id": "vnSoiKatev3Q"
      },
      "outputs": [],
      "source": [
        "keywords_per_text = []\n",
        "for text in final_texts:\n",
        "    keywords = kw_model.extract_keywords(text)\n",
        "    keywords_per_text.append([item[0] for item in keywords])"
      ]
    },
    {
      "cell_type": "markdown",
      "metadata": {
        "id": "MoBk4WJZev3Q"
      },
      "source": [
        "## Jaro-Winkler"
      ]
    },
    {
      "cell_type": "code",
      "execution_count": 50,
      "metadata": {
        "id": "46oG_Ex_ev3Q"
      },
      "outputs": [],
      "source": [
        "category_map = {\n",
        "    \"Undefined\": [],\n",
        "    \"Management\": [\n",
        "        \"General Manager\", \"CEO\", \"Executive Director\", \"Operations Manager\", \"Project Leader\",\n",
        "        \"Program Director\", \"Department Head\", \"Executive Officer\", \"Division Head\", \"Branch Director\",\n",
        "        \"Regional Director\", \"Country Director\", \"Site Director\", \"Organizational Development\",\n",
        "        \"Business Strategy\", \"Leadership Development\", \"Management Consulting\", \"Team Leadership\",\n",
        "        \"Performance Management\", \"Employee Development\", \"Talent Management\", \"Succession Planning\",\n",
        "        \"Conflict Resolution\", \"Staff Management\", \"Workforce Planning\", \"Goal Setting\", \"Performance Appraisal\",\n",
        "        \"HR Management\", \"Financial Management\", \"Marketing Management\", \"Sales Management\",\n",
        "        \"Product Management\", \"IT Management\", \"Quality Management\", \"Supply Chain Management\",\n",
        "        \"Risk Management\", \"Compliance Management\", \"Customer Service Management\", \"Facilities Management\",\n",
        "        \"Administrative Management\", \"Corporate Governance\", \"Business Operations\", \"Stakeholder Management\",\n",
        "        \"Process Improvement\", \"Business Continuity\", \"KPI Management\", \"Resource Allocation\", \"Crisis Management\",\n",
        "        \"Innovation Management\", \"Knowledge Management\", \"Strategic Initiatives\", \"Organizational Behavior\",\n",
        "        \"Change Leadership\", \"Strategic Execution\", \"Leadership Communication\", \"Decision Making\",\n",
        "        \"Resource Optimization\"\n",
        "    ],\n",
        "    \"Sales and Marketing\": [\n",
        "        \"Sales Representative\", \"Sales Manager\", \"Sales Director\", \"Account Executive\",\n",
        "        \"Business Development Representative\", \"Sales Specialist\", \"Marketing Manager\", \"Product Manager\",\n",
        "        \"Marketing Director\", \"Marketing Specialist\", \"Digital Marketing Manager\", \"Content Marketing Manager\",\n",
        "        \"SEO Specialist\", \"Business Development\", \"Market Research\", \"Advertising\", \"Sales Strategies\",\n",
        "        \"Customer Relationship Management\", \"Digital Marketing\", \"Social Media Marketing\", \"Public Relations\",\n",
        "        \"Content Marketing\", \"Email Marketing\", \"Lead Generation\", \"Campaign Management\", \"Market Segmentation\",\n",
        "        \"Sales Forecasting\", \"Customer Engagement\", \"Sales Operations\", \"Promotional Strategies\", \"Sales Enablement\",\n",
        "        \"Marketing Communications\", \"Consumer Behavior\", \"Sales Analytics\", \"Market Analysis\", \"Brand Management\",\n",
        "        \"Customer Insights\", \"Campaign Strategy\", \"Content Strategy\", \"Digital Advertising\", \"Sales Optimization\",\n",
        "        \"Customer Experience Management\", \"Influencer Marketing\", \"Growth Hacking\", \"Performance Marketing\"\n",
        "    ],\n",
        "    \"Engineering and Science\": [\n",
        "        \"Software Engineer\", \"Mechanical Engineer\", \"Electrical Engineer\", \"Civil Engineer\", \"Structural Engineer\",\n",
        "        \"Chemical Engineer\", \"Environmental Engineer\", \"Industrial Engineer\", \"Systems Engineer\", \"Hardware Engineer\",\n",
        "        \"IT Support Specialist\", \"Data Analyst\", \"Systems Analyst\", \"Network Engineer\", \"Database Administrator\",\n",
        "        \"Cybersecurity Specialist\", \"Cloud Computing Specialist\", \"DevOps Engineer\", \"AI Developer\", \"Software Developer\",\n",
        "        \"IT Project Manager\", \"Software Development\", \"Network Security\", \"Cloud Services\", \"Data Management\",\n",
        "        \"Systems Integration\", \"Quality Assurance\", \"Data Engineering\", \"IT Management\", \"Software Architecture\",\n",
        "        \"Digital Transformation\", \"Application Development\", \"Hardware Design\", \"Systems Engineering\",\n",
        "        \"Network Architecture\", \"Cybersecurity Protocols\", \"Data Analytics\", \"Cloud Infrastructure\",\n",
        "        \"Emerging Technologies\", \"Geospatial Analysis\", \"Spatial Data Management\", \"Remote Sensing\",\n",
        "        \"Artificial Intelligence\", \"Machine Learning\", \"Robotics\", \"Big Data Analytics\", \"IoT\", \"Computational Science\",\n",
        "        \"Mathematician\", \"Statistician\", \"Data Scientist\", \"Quantitative Analyst\", \"Actuary\",\n",
        "        \"Mathematical Modeler\", \"Operations Research Analyst\", \"Physicist\", \"Chemist\", \"Astronomer\",\n",
        "        \"Geophysicist\", \"Environmental Scientist\", \"Biochemist\", \"Research Scientist\", \"Laboratory Technician\",\n",
        "        \"Climate Scientist\", \"Mathematical Analysis\", \"Data Modeling\", \"Statistical Analysis\", \"Experimental Research\",\n",
        "        \"Environmental Analysis\", \"Scientific Research\", \"Applied Mathematics\", \"Physical Chemistry\",\n",
        "        \"Organic Chemistry\", \"Inorganic Chemistry\", \"Astrophysics\", \"Quantum Mechanics\",\n",
        "        \"Photonics\", \"Laser Technology\", \"Quantum Computing\", \"Scientific Data Analysis\", \"Experimental Physics\",\n",
        "        \"Statistical Mechanics\", \"Spatial Statistics\", \"Geostatistics\", \"Environmental Modeling\",\n",
        "        \"Neuroscience\", \"Computational Biology\", \"Bioinformatics\", \"Complex Systems\", \"Neurorehabilitation\",\n",
        "        \"Trauma Care\", \"Psychiatric Medicine\", \"Geriatric Medicine\", \"Telemedicine\", \"PhD\", \"Doctorate\",\n",
        "        \"Postdoctoral Research\", \"Academic Research\", \"Research Fellow\", \"Principal Investigator\",\n",
        "        \"Research Associate\", \"Assistant Professor\", \"Associate Professor\", \"Professor\", \"Lecturer\", \"Microbiology\",\n",
        "        \"Biology\", \"Geosciences\"\n",
        "    ],\n",
        "    \"Finance\": [\n",
        "        \"Accountant\", \"Financial Analyst\", \"Controller\", \"Auditor\", \"Budget Analyst\", \"Investment Analyst\",\n",
        "        \"Treasury Analyst\", \"Risk Manager\", \"Tax Advisor\", \"Credit Analyst\", \"Cash Flow Manager\",\n",
        "        \"Financial Records\", \"Financial Analysis\", \"Compliance\", \"Office Management\", \"Budget Management\",\n",
        "        \"Payroll Management\", \"Accounts Payable\", \"Accounts Receivable\", \"Financial Planning\", \"Corporate Finance\",\n",
        "        \"Cost Accounting\", \"Management Accounting\", \"Financial Reporting\", \"Internal Audit\", \"Business Valuation\",\n",
        "        \"Asset Management\", \"Credit Management\", \"Financial Risk Management\", \"Regulatory Compliance\", \"Treasury Management\",\n",
        "        \"Financial Modeling\", \"Risk Assessment\", \"Budget Planning\", \"Audit Procedures\", \"Financial Strategy\",\n",
        "        \"Administrative Operations\", \"Expense Management\", \"Financial Technology\", \"Fintech Innovations\",\n",
        "        \"Equity Research Analyst\", \"Portfolio Manager\", \"Investment Banker\", \"Financial Consultant\",\n",
        "        \"Hedge Fund Manager\", \"Private Equity Analyst\", \"Venture Capital Analyst\", \"Corporate Treasurer\",\n",
        "        \"Financial Advisor\", \"Commercial Banker\", \"Loan Officer\", \"Trade Analyst\", \"Merger and Acquisition Analyst\",\n",
        "        \"Forensic Accountant\", \"Tax Planner\", \"Estate Planner\", \"Credit Risk Analyst\", \"Quantitative Finance Analyst\",\n",
        "        \"Personal Financial Advisor\", \"Insurance Underwriter\", \"Pension Fund Manager\", \"Real Estate Finance Specialist\"\n",
        "    ],\n",
        "    \"Administration\": [\n",
        "        \"Administrative Assistant\", \"Office Manager\", \"Executive Assistant\", \"Office Administrator\",\n",
        "        \"Receptionist\", \"Clerical Assistant\", \"Data Entry Clerk\", \"Office Coordinator\",\n",
        "        \"Administrative Coordinator\", \"Secretary\", \"Personal Assistant\", \"Administrative Manager\",\n",
        "        \"Front Desk Coordinator\", \"Customer Service Administrator\", \"Records Manager\", \"Office Support Specialist\",\n",
        "        \"Mailroom Clerk\", \"File Clerk\", \"Virtual Assistant\", \"Scheduling Coordinator\", \"Office Operations Manager\",\n",
        "        \"Office Support Supervisor\", \"Executive Secretary\", \"Administrative Support Specialist\", \"Administrative Officer\",\n",
        "        \"Office Supervisor\", \"Administrative Director\", \"Facilities Coordinator\", \"Document Controller\",\n",
        "        \"Administrative Receptionist\", \"Office Assistant\", \"Operations Administrator\"\n",
        "    ]\n",
        "}"
      ]
    },
    {
      "cell_type": "code",
      "execution_count": 51,
      "metadata": {
        "id": "BvpSQk3-ev3Q"
      },
      "outputs": [],
      "source": [
        "from jaro import jaro_winkler_metric"
      ]
    },
    {
      "cell_type": "code",
      "execution_count": 52,
      "metadata": {
        "id": "Dq4I_9M2ev3Q"
      },
      "outputs": [],
      "source": [
        "def classify_text(extracted_keywords, category_map):\n",
        "    similarity_scores = {}\n",
        "\n",
        "    def compute_max_similarity(keywords, category_keywords):\n",
        "        max_similarity = 0\n",
        "        for kw in keywords:\n",
        "            for cat_kw in category_keywords:\n",
        "                similarity = jaro_winkler_metric(kw, cat_kw)\n",
        "                if similarity > max_similarity:\n",
        "                    max_similarity = similarity\n",
        "        return max_similarity\n",
        "\n",
        "    for category, keywords in category_map.items():\n",
        "        similarity = compute_max_similarity(extracted_keywords, keywords)\n",
        "        similarity_scores[category] = similarity\n",
        "\n",
        "    best_category = max(similarity_scores, key=similarity_scores.get)\n",
        "    return best_category, similarity_scores"
      ]
    },
    {
      "cell_type": "code",
      "execution_count": 53,
      "metadata": {
        "id": "Uxp6qtNZev3Q"
      },
      "outputs": [],
      "source": [
        "finalKeywords = []\n",
        "\n",
        "for i in range(0, len(keywords_per_text)):\n",
        "    finalKeywords.append(keywords_per_text[i] + textFields[i])"
      ]
    },
    {
      "cell_type": "markdown",
      "metadata": {},
      "source": [
        "## Zero Shot"
      ]
    },
    {
      "cell_type": "markdown",
      "metadata": {},
      "source": [
        "### Load the pre-trained zeroShot RoBERTa tokenizer and model"
      ]
    },
    {
      "cell_type": "code",
      "execution_count": 54,
      "metadata": {},
      "outputs": [],
      "source": [
        "from transformers import AutoTokenizer, AutoModelForSequenceClassification\n",
        "\n",
        "model_name = \"MoritzLaurer/deberta-v3-large-zeroshot-v2.0-c\"\n",
        "tokenizer = AutoTokenizer.from_pretrained(model_name)\n",
        "model = AutoModelForSequenceClassification.from_pretrained(model_name)\n",
        "model = model.to(device)"
      ]
    },
    {
      "cell_type": "markdown",
      "metadata": {},
      "source": [
        "### Create a Zero-Shot Classification pipeline"
      ]
    },
    {
      "cell_type": "code",
      "execution_count": 55,
      "metadata": {},
      "outputs": [],
      "source": [
        "from transformers import pipeline\n",
        "\n",
        "classifier = pipeline(\"zero-shot-classification\", model=model, tokenizer=tokenizer)"
      ]
    },
    {
      "cell_type": "markdown",
      "metadata": {},
      "source": [
        "## Classification & Evaluation"
      ]
    },
    {
      "cell_type": "code",
      "execution_count": 56,
      "metadata": {
        "colab": {
          "base_uri": "https://localhost:8080/"
        },
        "id": "MjBqe9lsev3Q",
        "outputId": "ef5fcdec-921f-4c37-d071-3b3bf914173e"
      },
      "outputs": [
        {
          "name": "stdout",
          "output_type": "stream",
          "text": [
            "Classified: 100.00%\n",
            "Undefined: 0.00%\n",
            "\n",
            " ----------------------------- \n",
            "\n",
            "Category 'Management': 4.44%\n",
            "Category 'Sales and Marketing': 0.00%\n",
            "Category 'Engineering and Science': 91.11%\n",
            "Category 'Finance': 0.00%\n",
            "Category 'Administration': 4.44%\n",
            "\n",
            " ----------------------------- \n",
            "\n",
            "Accuracy: 91.11%\n",
            "\n",
            " ----------------------------- \n",
            "\n",
            "Document Annotated\n"
          ]
        }
      ],
      "source": [
        "import datetime\n",
        "\n",
        "# Initialize a dictionary to keep track of counts for each category\n",
        "category_counts = {category: 0 for category in category_map.keys()}\n",
        "total_count = len(finalKeywords)  # Total number of offers\n",
        "accuracy = 0\n",
        "jobTypes = []\n",
        "\n",
        "for keywords, text in zip(finalKeywords, descriptions):\n",
        "    best_category, similarity_scores = classify_text(keywords, category_map)\n",
        "    matched_categories = []\n",
        "\n",
        "    for category, score in similarity_scores.items():\n",
        "        if score >= 0.6:\n",
        "            matched_categories.append(category)\n",
        "\n",
        "    finalResult = ''\n",
        "    if not matched_categories:\n",
        "        finalResult = \"Undefined\"\n",
        "    elif len(matched_categories) ==  1:\n",
        "        finalResult = matched_categories[0]\n",
        "    else:\n",
        "        result = classifier(text, candidate_labels=matched_categories)\n",
        "        finalResult = result['labels'][0]\n",
        "    category_counts[finalResult] += 1\n",
        "    jobTypes.append(finalResult)\n",
        "    \n",
        "df['JobType'] = jobTypes\n",
        "df.to_excel('../' + fileName + '_JobType.xlsx', index=False, engine='openpyxl')\n",
        "\n",
        "# Print percentage of offers in each category\n",
        "for category, count in category_counts.items():\n",
        "    if (category == \"Undefined\"):\n",
        "        percentage = (count / total_count) * 100\n",
        "        print(f\"Classified: {(100 - percentage):.2f}%\")\n",
        "        print(f\"{category}: {percentage:.2f}%\")\n",
        "        print(\"\\n ----------------------------- \\n\")\n",
        "    else:\n",
        "        percentage = (count / total_count) * 100\n",
        "        print(f\"Category '{category}': {percentage:.2f}%\")\n",
        "\n",
        "print(\"\\n ----------------------------- \\n\")\n",
        "\n",
        "# Calculate accuracy\n",
        "true_categories = df['Type'].tolist()\n",
        "predicted_categories = df['JobType'].tolist()\n",
        "\n",
        "# Count correct predictions\n",
        "correct_predictions = sum(1 for true, pred in zip(true_categories, predicted_categories) if true == pred)\n",
        "\n",
        "# Calculate percentage accuracy\n",
        "accuracy = (correct_predictions / total_count) * 100\n",
        "\n",
        "# Print the result\n",
        "print(f\"Accuracy: {accuracy:.2f}%\")\n",
        "\n",
        "print(\"\\n ----------------------------- \\n\")\n",
        "print(\"Document Annotated\")"
      ]
    }
  ],
  "metadata": {
    "colab": {
      "provenance": []
    },
    "kernelspec": {
      "display_name": "Python 3",
      "language": "python",
      "name": "python3"
    },
    "language_info": {
      "codemirror_mode": {
        "name": "ipython",
        "version": 3
      },
      "file_extension": ".py",
      "mimetype": "text/x-python",
      "name": "python",
      "nbconvert_exporter": "python",
      "pygments_lexer": "ipython3",
      "version": "3.12.4"
    },
    "widgets": {
      "application/vnd.jupyter.widget-state+json": {
        "2076b6425e3843aab89c23651d3f29d8": {
          "model_module": "@jupyter-widgets/controls",
          "model_module_version": "1.5.0",
          "model_name": "DescriptionStyleModel",
          "state": {
            "_model_module": "@jupyter-widgets/controls",
            "_model_module_version": "1.5.0",
            "_model_name": "DescriptionStyleModel",
            "_view_count": null,
            "_view_module": "@jupyter-widgets/base",
            "_view_module_version": "1.2.0",
            "_view_name": "StyleView",
            "description_width": ""
          }
        },
        "28eb189a70a447288c8f111ba27311dc": {
          "model_module": "@jupyter-widgets/controls",
          "model_module_version": "1.5.0",
          "model_name": "DescriptionStyleModel",
          "state": {
            "_model_module": "@jupyter-widgets/controls",
            "_model_module_version": "1.5.0",
            "_model_name": "DescriptionStyleModel",
            "_view_count": null,
            "_view_module": "@jupyter-widgets/base",
            "_view_module_version": "1.2.0",
            "_view_name": "StyleView",
            "description_width": ""
          }
        },
        "379fd32be9654aa2aee037c0077cbf07": {
          "model_module": "@jupyter-widgets/base",
          "model_module_version": "1.2.0",
          "model_name": "LayoutModel",
          "state": {
            "_model_module": "@jupyter-widgets/base",
            "_model_module_version": "1.2.0",
            "_model_name": "LayoutModel",
            "_view_count": null,
            "_view_module": "@jupyter-widgets/base",
            "_view_module_version": "1.2.0",
            "_view_name": "LayoutView",
            "align_content": null,
            "align_items": null,
            "align_self": null,
            "border": null,
            "bottom": null,
            "display": null,
            "flex": null,
            "flex_flow": null,
            "grid_area": null,
            "grid_auto_columns": null,
            "grid_auto_flow": null,
            "grid_auto_rows": null,
            "grid_column": null,
            "grid_gap": null,
            "grid_row": null,
            "grid_template_areas": null,
            "grid_template_columns": null,
            "grid_template_rows": null,
            "height": null,
            "justify_content": null,
            "justify_items": null,
            "left": null,
            "margin": null,
            "max_height": null,
            "max_width": null,
            "min_height": null,
            "min_width": null,
            "object_fit": null,
            "object_position": null,
            "order": null,
            "overflow": null,
            "overflow_x": null,
            "overflow_y": null,
            "padding": null,
            "right": null,
            "top": null,
            "visibility": null,
            "width": null
          }
        },
        "6f932929d95b42b6823018a95f3832aa": {
          "model_module": "@jupyter-widgets/controls",
          "model_module_version": "1.5.0",
          "model_name": "FloatProgressModel",
          "state": {
            "_dom_classes": [],
            "_model_module": "@jupyter-widgets/controls",
            "_model_module_version": "1.5.0",
            "_model_name": "FloatProgressModel",
            "_view_count": null,
            "_view_module": "@jupyter-widgets/controls",
            "_view_module_version": "1.5.0",
            "_view_name": "ProgressView",
            "bar_style": "success",
            "description": "",
            "description_tooltip": null,
            "layout": "IPY_MODEL_f985aaa2ca3341a9a44bee2ae4d79992",
            "max": 6,
            "min": 0,
            "orientation": "horizontal",
            "style": "IPY_MODEL_ebb0debf4f9b4ae6bea066cff04a3d2b",
            "value": 6
          }
        },
        "97081c5a419642c8a25a7d9f8a1a6267": {
          "model_module": "@jupyter-widgets/base",
          "model_module_version": "1.2.0",
          "model_name": "LayoutModel",
          "state": {
            "_model_module": "@jupyter-widgets/base",
            "_model_module_version": "1.2.0",
            "_model_name": "LayoutModel",
            "_view_count": null,
            "_view_module": "@jupyter-widgets/base",
            "_view_module_version": "1.2.0",
            "_view_name": "LayoutView",
            "align_content": null,
            "align_items": null,
            "align_self": null,
            "border": null,
            "bottom": null,
            "display": null,
            "flex": null,
            "flex_flow": null,
            "grid_area": null,
            "grid_auto_columns": null,
            "grid_auto_flow": null,
            "grid_auto_rows": null,
            "grid_column": null,
            "grid_gap": null,
            "grid_row": null,
            "grid_template_areas": null,
            "grid_template_columns": null,
            "grid_template_rows": null,
            "height": null,
            "justify_content": null,
            "justify_items": null,
            "left": null,
            "margin": null,
            "max_height": null,
            "max_width": null,
            "min_height": null,
            "min_width": null,
            "object_fit": null,
            "object_position": null,
            "order": null,
            "overflow": null,
            "overflow_x": null,
            "overflow_y": null,
            "padding": null,
            "right": null,
            "top": null,
            "visibility": null,
            "width": null
          }
        },
        "b6eaa2c66a26493491167e1a4aaec559": {
          "model_module": "@jupyter-widgets/controls",
          "model_module_version": "1.5.0",
          "model_name": "HTMLModel",
          "state": {
            "_dom_classes": [],
            "_model_module": "@jupyter-widgets/controls",
            "_model_module_version": "1.5.0",
            "_model_name": "HTMLModel",
            "_view_count": null,
            "_view_module": "@jupyter-widgets/controls",
            "_view_module_version": "1.5.0",
            "_view_name": "HTMLView",
            "description": "",
            "description_tooltip": null,
            "layout": "IPY_MODEL_c5363505e1d24dda89bf0e27cc20da65",
            "placeholder": "​",
            "style": "IPY_MODEL_28eb189a70a447288c8f111ba27311dc",
            "value": "Fetching 6 files: 100%"
          }
        },
        "c5363505e1d24dda89bf0e27cc20da65": {
          "model_module": "@jupyter-widgets/base",
          "model_module_version": "1.2.0",
          "model_name": "LayoutModel",
          "state": {
            "_model_module": "@jupyter-widgets/base",
            "_model_module_version": "1.2.0",
            "_model_name": "LayoutModel",
            "_view_count": null,
            "_view_module": "@jupyter-widgets/base",
            "_view_module_version": "1.2.0",
            "_view_name": "LayoutView",
            "align_content": null,
            "align_items": null,
            "align_self": null,
            "border": null,
            "bottom": null,
            "display": null,
            "flex": null,
            "flex_flow": null,
            "grid_area": null,
            "grid_auto_columns": null,
            "grid_auto_flow": null,
            "grid_auto_rows": null,
            "grid_column": null,
            "grid_gap": null,
            "grid_row": null,
            "grid_template_areas": null,
            "grid_template_columns": null,
            "grid_template_rows": null,
            "height": null,
            "justify_content": null,
            "justify_items": null,
            "left": null,
            "margin": null,
            "max_height": null,
            "max_width": null,
            "min_height": null,
            "min_width": null,
            "object_fit": null,
            "object_position": null,
            "order": null,
            "overflow": null,
            "overflow_x": null,
            "overflow_y": null,
            "padding": null,
            "right": null,
            "top": null,
            "visibility": null,
            "width": null
          }
        },
        "ebb0debf4f9b4ae6bea066cff04a3d2b": {
          "model_module": "@jupyter-widgets/controls",
          "model_module_version": "1.5.0",
          "model_name": "ProgressStyleModel",
          "state": {
            "_model_module": "@jupyter-widgets/controls",
            "_model_module_version": "1.5.0",
            "_model_name": "ProgressStyleModel",
            "_view_count": null,
            "_view_module": "@jupyter-widgets/base",
            "_view_module_version": "1.2.0",
            "_view_name": "StyleView",
            "bar_color": null,
            "description_width": ""
          }
        },
        "f10f4d0371d04c2d847349422d4483d7": {
          "model_module": "@jupyter-widgets/controls",
          "model_module_version": "1.5.0",
          "model_name": "HTMLModel",
          "state": {
            "_dom_classes": [],
            "_model_module": "@jupyter-widgets/controls",
            "_model_module_version": "1.5.0",
            "_model_name": "HTMLModel",
            "_view_count": null,
            "_view_module": "@jupyter-widgets/controls",
            "_view_module_version": "1.5.0",
            "_view_name": "HTMLView",
            "description": "",
            "description_tooltip": null,
            "layout": "IPY_MODEL_97081c5a419642c8a25a7d9f8a1a6267",
            "placeholder": "​",
            "style": "IPY_MODEL_2076b6425e3843aab89c23651d3f29d8",
            "value": " 6/6 [00:00&lt;00:00, 103.88it/s]"
          }
        },
        "f414a7536795426a8f11a7fbee01e147": {
          "model_module": "@jupyter-widgets/controls",
          "model_module_version": "1.5.0",
          "model_name": "HBoxModel",
          "state": {
            "_dom_classes": [],
            "_model_module": "@jupyter-widgets/controls",
            "_model_module_version": "1.5.0",
            "_model_name": "HBoxModel",
            "_view_count": null,
            "_view_module": "@jupyter-widgets/controls",
            "_view_module_version": "1.5.0",
            "_view_name": "HBoxView",
            "box_style": "",
            "children": [
              "IPY_MODEL_b6eaa2c66a26493491167e1a4aaec559",
              "IPY_MODEL_6f932929d95b42b6823018a95f3832aa",
              "IPY_MODEL_f10f4d0371d04c2d847349422d4483d7"
            ],
            "layout": "IPY_MODEL_379fd32be9654aa2aee037c0077cbf07"
          }
        },
        "f985aaa2ca3341a9a44bee2ae4d79992": {
          "model_module": "@jupyter-widgets/base",
          "model_module_version": "1.2.0",
          "model_name": "LayoutModel",
          "state": {
            "_model_module": "@jupyter-widgets/base",
            "_model_module_version": "1.2.0",
            "_model_name": "LayoutModel",
            "_view_count": null,
            "_view_module": "@jupyter-widgets/base",
            "_view_module_version": "1.2.0",
            "_view_name": "LayoutView",
            "align_content": null,
            "align_items": null,
            "align_self": null,
            "border": null,
            "bottom": null,
            "display": null,
            "flex": null,
            "flex_flow": null,
            "grid_area": null,
            "grid_auto_columns": null,
            "grid_auto_flow": null,
            "grid_auto_rows": null,
            "grid_column": null,
            "grid_gap": null,
            "grid_row": null,
            "grid_template_areas": null,
            "grid_template_columns": null,
            "grid_template_rows": null,
            "height": null,
            "justify_content": null,
            "justify_items": null,
            "left": null,
            "margin": null,
            "max_height": null,
            "max_width": null,
            "min_height": null,
            "min_width": null,
            "object_fit": null,
            "object_position": null,
            "order": null,
            "overflow": null,
            "overflow_x": null,
            "overflow_y": null,
            "padding": null,
            "right": null,
            "top": null,
            "visibility": null,
            "width": null
          }
        }
      }
    }
  },
  "nbformat": 4,
  "nbformat_minor": 0
}
