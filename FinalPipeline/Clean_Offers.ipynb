{
 "cells": [
  {
   "cell_type": "markdown",
   "metadata": {},
   "source": [
    "# Clean Offers"
   ]
  },
  {
   "cell_type": "markdown",
   "metadata": {},
   "source": [
    "## Load Data"
   ]
  },
  {
   "cell_type": "code",
   "execution_count": 1,
   "metadata": {},
   "outputs": [],
   "source": [
    "import pandas as pd\n",
    "\n",
    "fileName = 'Test_Results'\n",
    "excel_file = '../' + fileName + '.xlsx'\n",
    "\n",
    "df = pd.read_excel(excel_file)"
   ]
  },
  {
   "cell_type": "markdown",
   "metadata": {},
   "source": [
    "## Translate"
   ]
  },
  {
   "cell_type": "code",
   "execution_count": 2,
   "metadata": {},
   "outputs": [],
   "source": [
    "import langid\n",
    "from deep_translator import GoogleTranslator"
   ]
  },
  {
   "cell_type": "code",
   "execution_count": null,
   "metadata": {},
   "outputs": [],
   "source": [
    "def split_text(text, max_length=5000):\n",
    "    chunks = []\n",
    "    start = 0\n",
    "    \n",
    "    while start < len(text):\n",
    "        end = min(start + max_length - 1, len(text))\n",
    "        \n",
    "        if end < len(text):\n",
    "            split_point = end\n",
    "            while split_point > start and text[split_point] not in {' ', '.'}:\n",
    "                split_point -= 1\n",
    "            if split_point == start:\n",
    "                split_point = end\n",
    "            chunks.append(text[start:split_point].strip())\n",
    "            start = split_point\n",
    "        else:\n",
    "            chunks.append(text[start:].strip())\n",
    "            start = len(text)\n",
    "    \n",
    "    return chunks"
   ]
  },
  {
   "cell_type": "code",
   "execution_count": null,
   "metadata": {},
   "outputs": [],
   "source": [
    "def detect_language(text):\n",
    "    lang, _ = langid.classify(text)\n",
    "    return lang"
   ]
  },
  {
   "cell_type": "code",
   "execution_count": 3,
   "metadata": {},
   "outputs": [],
   "source": [
    "def detect_and_translate(text):\n",
    "    if pd.isna(text) or text == '-':\n",
    "        return text\n",
    "    try:\n",
    "        detected_language = detect_language(text)\n",
    "        if detected_language != 'en':\n",
    "            translator = GoogleTranslator(source='auto', target='en')\n",
    "            translatedText = ''\n",
    "            for chunk in split_text(text):\n",
    "                translatedText += translator.translate(chunk)\n",
    "            return translatedText\n",
    "        else:\n",
    "            return text\n",
    "    except Exception as e:\n",
    "        print(e)\n",
    "        return text"
   ]
  },
  {
   "cell_type": "code",
   "execution_count": 4,
   "metadata": {},
   "outputs": [
    {
     "name": "stderr",
     "output_type": "stream",
     "text": [
      "C:\\Users\\Usuario\\AppData\\Local\\Temp\\ipykernel_67444\\3137583933.py:2: FutureWarning: DataFrame.applymap has been deprecated. Use DataFrame.map instead.\n",
      "  df[columns_to_translate] = df[columns_to_translate].applymap(detect_and_translate)\n"
     ]
    }
   ],
   "source": [
    "columns_to_translate = ['Descriptions', 'Requirements']\n",
    "df[columns_to_translate] = df[columns_to_translate].applymap(detect_and_translate)"
   ]
  },
  {
   "cell_type": "markdown",
   "metadata": {},
   "source": [
    "## Fix Line Break Issue"
   ]
  },
  {
   "cell_type": "code",
   "execution_count": 5,
   "metadata": {},
   "outputs": [],
   "source": [
    "import re\n",
    "\n",
    "def split_words(text, excluded_words=None):\n",
    "    if not isinstance(text, str):\n",
    "        return text\n",
    "    \n",
    "    if excluded_words is None:\n",
    "        excluded_words = []\n",
    "\n",
    "    placeholders = {}\n",
    "    for i, word in enumerate(excluded_words):\n",
    "        placeholder = f\"__PLACEHOLDER_{i}__\"\n",
    "        placeholders[placeholder] = word\n",
    "        text = text.replace(word, placeholder)\n",
    "\n",
    "    def split_non_excluded(match):\n",
    "        word = match.group(0)\n",
    "        return re.sub(r'([a-z])([A-Z])|([a-zA-Z])(\\d)|(\\d)([a-zA-Z])', r'\\1\\3\\5 \\2\\4\\6', word)\n",
    "    \n",
    "    splitted_text = re.sub(r'\\S+', split_non_excluded, text)\n",
    "    \n",
    "    for placeholder, original_word in placeholders.items():\n",
    "        splitted_text = splitted_text.replace(placeholder, ' ' + original_word)\n",
    "    \n",
    "    splitted_text = re.sub(r'(\\W)', r' \\1 ', splitted_text)\n",
    "    splitted_text = re.sub(r'\\s+', ' ', splitted_text).strip()\n",
    "    \n",
    "    return splitted_text"
   ]
  },
  {
   "cell_type": "code",
   "execution_count": 6,
   "metadata": {},
   "outputs": [
    {
     "name": "stderr",
     "output_type": "stream",
     "text": [
      "C:\\Users\\Usuario\\AppData\\Local\\Temp\\ipykernel_67444\\3629075693.py:4: FutureWarning: DataFrame.applymap has been deprecated. Use DataFrame.map instead.\n",
      "  df[columns_to_fix] = df[columns_to_fix].applymap(lambda x: split_words(x, excluded_words=excluded_words))\n"
     ]
    }
   ],
   "source": [
    "excluded_words = ['PhD', 'phd', 'Phd', 'phD', 'PHd', 'P.h.d', 'P.h.D', 'P.H.D']\n",
    "columns_to_fix = ['Descriptions', 'Requirements']\n",
    "\n",
    "df[columns_to_fix] = df[columns_to_fix].applymap(lambda x: split_words(x, excluded_words=excluded_words))"
   ]
  },
  {
   "cell_type": "markdown",
   "metadata": {},
   "source": [
    "## Filter Offers"
   ]
  },
  {
   "cell_type": "code",
   "execution_count": 7,
   "metadata": {},
   "outputs": [],
   "source": [
    "import joblib\n",
    "\n",
    "model = joblib.load('random_forest_model.pkl')"
   ]
  },
  {
   "cell_type": "code",
   "execution_count": 8,
   "metadata": {},
   "outputs": [],
   "source": [
    "from nltk.stem import WordNetLemmatizer\n",
    "from nltk import word_tokenize\n",
    "\n",
    "# Lemmatization\n",
    "lemmatizer = WordNetLemmatizer()\n",
    "lemmatized_text = df['Descriptions'].apply(lambda text: ' '.join([lemmatizer.lemmatize(word) for word in word_tokenize(text)]))"
   ]
  },
  {
   "cell_type": "code",
   "execution_count": 9,
   "metadata": {},
   "outputs": [],
   "source": [
    "import numpy as np\n",
    "from gensim import downloader as api\n",
    "\n",
    "# Word2Vec embeddings\n",
    "word2vec_model = api.load(\"word2vec-google-news-300\")\n",
    "\n",
    "def sentence_to_vec(sentence):\n",
    "    words = word_tokenize(sentence)\n",
    "    vectors = [word2vec_model[word] for word in words if word in word2vec_model.key_to_index]\n",
    "    return np.mean(vectors, axis=0) if vectors else np.zeros(300)"
   ]
  },
  {
   "cell_type": "code",
   "execution_count": 10,
   "metadata": {},
   "outputs": [],
   "source": [
    "word2vec = lemmatized_text.apply(sentence_to_vec)"
   ]
  },
  {
   "cell_type": "code",
   "execution_count": 11,
   "metadata": {},
   "outputs": [],
   "source": [
    "df['Predictions'] = model.predict(word2vec.tolist())"
   ]
  },
  {
   "cell_type": "code",
   "execution_count": 12,
   "metadata": {},
   "outputs": [],
   "source": [
    "df = df[df['Predictions'] == 1]\n",
    "df = df.drop(columns=['Predictions'])"
   ]
  },
  {
   "cell_type": "markdown",
   "metadata": {},
   "source": [
    "## Save Data"
   ]
  },
  {
   "cell_type": "code",
   "execution_count": 13,
   "metadata": {},
   "outputs": [],
   "source": [
    "df.to_excel('../' + fileName + '_Translated.xlsx', index=False, engine='openpyxl')"
   ]
  }
 ],
 "metadata": {
  "kernelspec": {
   "display_name": "Python 3",
   "language": "python",
   "name": "python3"
  },
  "language_info": {
   "codemirror_mode": {
    "name": "ipython",
    "version": 3
   },
   "file_extension": ".py",
   "mimetype": "text/x-python",
   "name": "python",
   "nbconvert_exporter": "python",
   "pygments_lexer": "ipython3",
   "version": "3.12.4"
  }
 },
 "nbformat": 4,
 "nbformat_minor": 2
}
