{
 "cells": [
  {
   "cell_type": "code",
   "execution_count": 1,
   "metadata": {},
   "outputs": [],
   "source": [
    "from langdetect import detect\n",
    "from deep_translator import GoogleTranslator"
   ]
  },
  {
   "cell_type": "code",
   "execution_count": 2,
   "metadata": {},
   "outputs": [],
   "source": [
    "def detect_and_translate(text):\n",
    "    # Detect the language of the text\n",
    "    detected_language = detect(text)\n",
    "    \n",
    "    if detected_language != 'en':\n",
    "        # Translate the text to English\n",
    "        translator = GoogleTranslator(source='auto', target='en')\n",
    "        translated_text = translator.translate(text)\n",
    "        return translated_text\n",
    "    else:\n",
    "        return text"
   ]
  },
  {
   "cell_type": "code",
   "execution_count": 3,
   "metadata": {},
   "outputs": [
    {
     "name": "stdout",
     "output_type": "stream",
     "text": [
      "Original language detected: fr\n",
      "Translation completed.\n",
      "Your mission will be to develop and maintain web applications using the latest technologies.\n"
     ]
    }
   ],
   "source": [
    "# Example usage:\n",
    "job_offer = \"\"\"\n",
    "Votre mission sera de développer et de maintenir des applications web en utilisant les dernières technologies.\n",
    "\"\"\"\n",
    "\n",
    "translated_job_offer = detect_and_translate(job_offer)\n",
    "print(translated_job_offer)"
   ]
  }
 ],
 "metadata": {
  "kernelspec": {
   "display_name": "Python 3",
   "language": "python",
   "name": "python3"
  },
  "language_info": {
   "codemirror_mode": {
    "name": "ipython",
    "version": 3
   },
   "file_extension": ".py",
   "mimetype": "text/x-python",
   "name": "python",
   "nbconvert_exporter": "python",
   "pygments_lexer": "ipython3",
   "version": "3.12.4"
  }
 },
 "nbformat": 4,
 "nbformat_minor": 2
}
